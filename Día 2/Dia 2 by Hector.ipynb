{
 "cells": [
  {
   "cell_type": "markdown",
   "id": "17485a72",
   "metadata": {},
   "source": [
    "Variables"
   ]
  },
  {
   "cell_type": "code",
   "execution_count": 1,
   "id": "4c24a85d",
   "metadata": {},
   "outputs": [],
   "source": [
    "myNum = 1 #My num es una variable"
   ]
  },
  {
   "cell_type": "code",
   "execution_count": 2,
   "id": "f96cd494",
   "metadata": {},
   "outputs": [
    {
     "data": {
      "text/plain": [
       "1"
      ]
     },
     "execution_count": 2,
     "metadata": {},
     "output_type": "execute_result"
    }
   ],
   "source": [
    "myNum"
   ]
  },
  {
   "cell_type": "code",
   "execution_count": 3,
   "id": "c4e6f680",
   "metadata": {},
   "outputs": [
    {
     "data": {
      "text/plain": [
       "4"
      ]
     },
     "execution_count": 3,
     "metadata": {},
     "output_type": "execute_result"
    }
   ],
   "source": [
    "myNum + 3"
   ]
  },
  {
   "cell_type": "markdown",
   "id": "78c70f47",
   "metadata": {},
   "source": [
    "Ejercicio numero 1\n",
    "\n",
    "Ejercicio Variables Numéricas 1\n",
    "Crea dos variables numéricas (numero1 y numero2).\n",
    "\n",
    "Asigna el valor 5 a numero1 y el valor 8 a numero2.\n",
    "\n",
    "Calcula la suma de estas dos variables y almacena el resultado en una nueva variable llamada suma.\n",
    "\n",
    "Imprime el valor de suma al final.\n",
    "\n",
    "\n"
   ]
  },
  {
   "cell_type": "code",
   "execution_count": 1,
   "id": "56ff087e",
   "metadata": {},
   "outputs": [
    {
     "name": "stdout",
     "output_type": "stream",
     "text": [
      "13\n"
     ]
    }
   ],
   "source": [
    "numero1 = 5\n",
    "numero2 = 8\n",
    "\n",
    "suma = numero1+numero2\n",
    "\n",
    "print(suma)\n",
    "\n"
   ]
  },
  {
   "cell_type": "markdown",
   "id": "2b000832",
   "metadata": {},
   "source": [
    "Ejercicio Variables Numéricas 2\n",
    "Crea una variable miEdad y asígnale el valor de 20.\n",
    "\n",
    "Incrementa el valor de miEdad en 2 utilizando una reasignación.\n",
    "\n",
    "Imprime el nuevo valor de miEdad.\n"
   ]
  },
  {
   "cell_type": "code",
   "execution_count": 2,
   "id": "5f9f2eb7",
   "metadata": {},
   "outputs": [
    {
     "name": "stdout",
     "output_type": "stream",
     "text": [
      "22\n"
     ]
    }
   ],
   "source": [
    "miEdad = 20\n",
    "\n",
    "miEdad += 2\n",
    "\n",
    "print(miEdad)"
   ]
  },
  {
   "cell_type": "markdown",
   "id": "4aa51bd3",
   "metadata": {},
   "source": [
    "Ejercicio Variables Numéricas 3\n",
    "\n",
    "Crea tres variables: a, b y c.\n",
    "\n",
    "Asigna los valores 10, 20 y 30 a estas variables respectivamente.\n",
    "\n",
    "Calcula la suma de a y b, y resta c del resultado. Guarda este resultado final en una variable llamada resultadoFinal.\n",
    "\n",
    "Imprime el resultado."
   ]
  },
  {
   "cell_type": "code",
   "execution_count": 3,
   "id": "c868fcc2",
   "metadata": {},
   "outputs": [
    {
     "name": "stdout",
     "output_type": "stream",
     "text": [
      "0\n"
     ]
    }
   ],
   "source": [
    "a, b , c = 10, 20, 30\n",
    "\n",
    "suma = a + b\n",
    "resultadoFinal = suma - c\n",
    "\n",
    "print(resultadoFinal)"
   ]
  },
  {
   "cell_type": "markdown",
   "id": "d54e5fcc",
   "metadata": {},
   "source": [
    "Variables de Texto"
   ]
  },
  {
   "cell_type": "code",
   "execution_count": 4,
   "id": "73121663",
   "metadata": {},
   "outputs": [
    {
     "data": {
      "text/plain": [
       "'Hola Mundo'"
      ]
     },
     "execution_count": 4,
     "metadata": {},
     "output_type": "execute_result"
    }
   ],
   "source": [
    "\"Hola Mundo\""
   ]
  },
  {
   "cell_type": "code",
   "execution_count": 5,
   "id": "3e5f7cfc",
   "metadata": {},
   "outputs": [
    {
     "data": {
      "text/plain": [
       "'Hola Mundo'"
      ]
     },
     "execution_count": 5,
     "metadata": {},
     "output_type": "execute_result"
    }
   ],
   "source": [
    "'Hola Mundo'"
   ]
  },
  {
   "cell_type": "code",
   "execution_count": 6,
   "id": "0670345a",
   "metadata": {},
   "outputs": [
    {
     "data": {
      "text/plain": [
       "\"El libro 'El principito' es emocionante\""
      ]
     },
     "execution_count": 6,
     "metadata": {},
     "output_type": "execute_result"
    }
   ],
   "source": [
    "\"El libro 'El principito' es emocionante\""
   ]
  },
  {
   "cell_type": "code",
   "execution_count": 11,
   "id": "8b33ee45",
   "metadata": {},
   "outputs": [],
   "source": [
    "miFrase = \"Hola Mundo\""
   ]
  },
  {
   "cell_type": "code",
   "execution_count": 12,
   "id": "17baa938",
   "metadata": {},
   "outputs": [],
   "source": [
    "miFrase2 = \"Hola Argentina\""
   ]
  },
  {
   "cell_type": "code",
   "execution_count": 13,
   "id": "d56f9b29",
   "metadata": {},
   "outputs": [
    {
     "data": {
      "text/plain": [
       "False"
      ]
     },
     "execution_count": 13,
     "metadata": {},
     "output_type": "execute_result"
    }
   ],
   "source": [
    "miFrase == miFrase2"
   ]
  },
  {
   "cell_type": "markdown",
   "id": "eb5b9a55",
   "metadata": {},
   "source": [
    "Ejercicio Variables de Texto 1\n",
    "Crea dos variables de texto: saludo y nombre.\n",
    "\n",
    "Asigna el valor \"Hola\" a saludo y tu nombre a nombre.\n",
    "\n",
    "Concatena estas dos variables para formar un mensaje de saludo completo y guárdalo en una variable llamada mensajeCompleto. No olvides el espacio entre ambas palabras o el ejercicio te dará error.\n",
    "\n",
    "Finalmente, imprime mensajeCompleto."
   ]
  },
  {
   "cell_type": "code",
   "execution_count": 14,
   "id": "03fc7bd2",
   "metadata": {},
   "outputs": [
    {
     "name": "stdout",
     "output_type": "stream",
     "text": [
      "Hola Hector\n"
     ]
    }
   ],
   "source": [
    "saludo = \"Hola\"\n",
    "nombre = \"Hector\"\n",
    "\n",
    "mensajeCompleto = saludo+ \" \" + nombre\n",
    "\n",
    "print(mensajeCompleto)"
   ]
  },
  {
   "cell_type": "markdown",
   "id": "f7115965",
   "metadata": {},
   "source": [
    "Ejercicio Variables de Texto 2\n",
    "\n",
    "Crea una variable frase que contenga el siguiente texto: ¿Te gustó más \"El Padrino\" o \"El Padrino II\"?\n",
    "\n",
    "Asegúrate de incluir las comillas internas en el texto como parte del string.\n",
    "\n",
    "Imprime el contenido de frase."
   ]
  },
  {
   "cell_type": "code",
   "execution_count": 16,
   "id": "8bbc1424",
   "metadata": {},
   "outputs": [
    {
     "name": "stdout",
     "output_type": "stream",
     "text": [
      "¿Te gustó más \"El Padrino\" o \"El Padrino II\"?\n"
     ]
    }
   ],
   "source": [
    "frase = '¿Te gustó más \"El Padrino\" o \"El Padrino II\"?'\n",
    "print(frase)"
   ]
  },
  {
   "cell_type": "markdown",
   "id": "5a82a0a2",
   "metadata": {},
   "source": [
    "Ejercicio Variables de Texto 3\n",
    "Crea dos variables texto1 y texto2.\n",
    "\n",
    "Asigna el string Viva python a texto1 usando comillas simples, y asigna el mismo string a texto2 pero usando comillas dobles.\n",
    "\n",
    "Crea una variable llamada sonIguales, que almacene el resultado de comprobar si texto1 y texto2 son iguales.\n",
    "\n",
    "Imprime el valor de sonIguales."
   ]
  },
  {
   "cell_type": "code",
   "execution_count": null,
   "id": "226db09c",
   "metadata": {},
   "outputs": [],
   "source": []
  }
 ],
 "metadata": {
  "kernelspec": {
   "display_name": "Python 3 (ipykernel)",
   "language": "python",
   "name": "python3"
  },
  "language_info": {
   "codemirror_mode": {
    "name": "ipython",
    "version": 3
   },
   "file_extension": ".py",
   "mimetype": "text/x-python",
   "name": "python",
   "nbconvert_exporter": "python",
   "pygments_lexer": "ipython3",
   "version": "3.11.5"
  }
 },
 "nbformat": 4,
 "nbformat_minor": 5
}
