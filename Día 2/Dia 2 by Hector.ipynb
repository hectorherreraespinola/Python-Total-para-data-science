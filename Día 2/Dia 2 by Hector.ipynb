{
 "cells": [
  {
   "cell_type": "markdown",
   "id": "17485a72",
   "metadata": {},
   "source": [
    "Variables"
   ]
  },
  {
   "cell_type": "code",
   "execution_count": 1,
   "id": "4c24a85d",
   "metadata": {},
   "outputs": [],
   "source": [
    "myNum = 1 #My num es una variable"
   ]
  },
  {
   "cell_type": "code",
   "execution_count": 2,
   "id": "f96cd494",
   "metadata": {},
   "outputs": [
    {
     "data": {
      "text/plain": [
       "1"
      ]
     },
     "execution_count": 2,
     "metadata": {},
     "output_type": "execute_result"
    }
   ],
   "source": [
    "myNum"
   ]
  },
  {
   "cell_type": "code",
   "execution_count": 3,
   "id": "c4e6f680",
   "metadata": {},
   "outputs": [
    {
     "data": {
      "text/plain": [
       "4"
      ]
     },
     "execution_count": 3,
     "metadata": {},
     "output_type": "execute_result"
    }
   ],
   "source": [
    "myNum + 3"
   ]
  },
  {
   "cell_type": "markdown",
   "id": "568f4c07",
   "metadata": {},
   "source": [
    "Ejercicio numero 1\n",
    "\n",
    "Ejercicio Variables Numéricas 1\n",
    "Crea dos variables numéricas (numero1 y numero2).\n",
    "\n",
    "Asigna el valor 5 a numero1 y el valor 8 a numero2.\n",
    "\n",
    "Calcula la suma de estas dos variables y almacena el resultado en una nueva variable llamada suma.\n",
    "\n",
    "Imprime el valor de suma al final.\n",
    "\n",
    "\n"
   ]
  },
  {
   "cell_type": "code",
   "execution_count": 1,
   "id": "42fe70ed",
   "metadata": {},
   "outputs": [
    {
     "name": "stdout",
     "output_type": "stream",
     "text": [
      "13\n"
     ]
    }
   ],
   "source": [
    "numero1 = 5\n",
    "numero2 = 8\n",
    "\n",
    "suma = numero1+numero2\n",
    "\n",
    "print(suma)\n",
    "\n"
   ]
  },
  {
   "cell_type": "markdown",
   "id": "0e597f8c",
   "metadata": {},
   "source": [
    "Ejercicio Variables Numéricas 2\n",
    "Crea una variable miEdad y asígnale el valor de 20.\n",
    "\n",
    "Incrementa el valor de miEdad en 2 utilizando una reasignación.\n",
    "\n",
    "Imprime el nuevo valor de miEdad.\n"
   ]
  },
  {
   "cell_type": "code",
   "execution_count": 2,
   "id": "7099008a",
   "metadata": {},
   "outputs": [
    {
     "name": "stdout",
     "output_type": "stream",
     "text": [
      "22\n"
     ]
    }
   ],
   "source": [
    "miEdad = 20\n",
    "\n",
    "miEdad += 2\n",
    "\n",
    "print(miEdad)"
   ]
  },
  {
   "cell_type": "markdown",
   "id": "8999a00e",
   "metadata": {},
   "source": [
    "Ejercicio Variables Numéricas 3\n",
    "\n",
    "Crea tres variables: a, b y c.\n",
    "\n",
    "Asigna los valores 10, 20 y 30 a estas variables respectivamente.\n",
    "\n",
    "Calcula la suma de a y b, y resta c del resultado. Guarda este resultado final en una variable llamada resultadoFinal.\n",
    "\n",
    "Imprime el resultado."
   ]
  },
  {
   "cell_type": "code",
   "execution_count": 3,
   "id": "596486db",
   "metadata": {},
   "outputs": [
    {
     "name": "stdout",
     "output_type": "stream",
     "text": [
      "0\n"
     ]
    }
   ],
   "source": [
    "a, b , c = 10, 20, 30\n",
    "\n",
    "suma = a + b\n",
    "resultadoFinal = suma - c\n",
    "\n",
    "print(resultadoFinal)"
   ]
  },
  {
   "cell_type": "markdown",
   "id": "d9f3e44e",
   "metadata": {},
   "source": [
    "Variables de Texto"
   ]
  },
  {
   "cell_type": "code",
   "execution_count": 4,
   "id": "965281f5",
   "metadata": {},
   "outputs": [
    {
     "data": {
      "text/plain": [
       "'Hola Mundo'"
      ]
     },
     "execution_count": 4,
     "metadata": {},
     "output_type": "execute_result"
    }
   ],
   "source": [
    "\"Hola Mundo\""
   ]
  },
  {
   "cell_type": "code",
   "execution_count": 5,
   "id": "d9dc43d2",
   "metadata": {},
   "outputs": [
    {
     "data": {
      "text/plain": [
       "'Hola Mundo'"
      ]
     },
     "execution_count": 5,
     "metadata": {},
     "output_type": "execute_result"
    }
   ],
   "source": [
    "'Hola Mundo'"
   ]
  },
  {
   "cell_type": "code",
   "execution_count": 6,
   "id": "148f39b0",
   "metadata": {},
   "outputs": [
    {
     "data": {
      "text/plain": [
       "\"El libro 'El principito' es emocionante\""
      ]
     },
     "execution_count": 6,
     "metadata": {},
     "output_type": "execute_result"
    }
   ],
   "source": [
    "\"El libro 'El principito' es emocionante\""
   ]
  },
  {
   "cell_type": "code",
   "execution_count": 11,
   "id": "f7665af4",
   "metadata": {},
   "outputs": [],
   "source": [
    "miFrase = \"Hola Mundo\""
   ]
  },
  {
   "cell_type": "code",
   "execution_count": 12,
   "id": "1fb51101",
   "metadata": {},
   "outputs": [],
   "source": [
    "miFrase2 = \"Hola Argentina\""
   ]
  },
  {
   "cell_type": "code",
   "execution_count": 13,
   "id": "5db5e95d",
   "metadata": {},
   "outputs": [
    {
     "data": {
      "text/plain": [
       "False"
      ]
     },
     "execution_count": 13,
     "metadata": {},
     "output_type": "execute_result"
    }
   ],
   "source": [
    "miFrase == miFrase2"
   ]
  },
  {
   "cell_type": "markdown",
   "id": "f8ae576f",
   "metadata": {},
   "source": [
    "Ejercicio Variables de Texto 1\n",
    "Crea dos variables de texto: saludo y nombre.\n",
    "\n",
    "Asigna el valor \"Hola\" a saludo y tu nombre a nombre.\n",
    "\n",
    "Concatena estas dos variables para formar un mensaje de saludo completo y guárdalo en una variable llamada mensajeCompleto. No olvides el espacio entre ambas palabras o el ejercicio te dará error.\n",
    "\n",
    "Finalmente, imprime mensajeCompleto."
   ]
  },
  {
   "cell_type": "code",
   "execution_count": 14,
   "id": "f3a0d1a0",
   "metadata": {},
   "outputs": [
    {
     "name": "stdout",
     "output_type": "stream",
     "text": [
      "Hola Hector\n"
     ]
    }
   ],
   "source": [
    "saludo = \"Hola\"\n",
    "nombre = \"Hector\"\n",
    "\n",
    "mensajeCompleto = saludo+ \" \" + nombre\n",
    "\n",
    "print(mensajeCompleto)"
   ]
  },
  {
   "cell_type": "markdown",
   "id": "b62bb994",
   "metadata": {},
   "source": [
    "Ejercicio Variables de Texto 2\n",
    "\n",
    "Crea una variable frase que contenga el siguiente texto: ¿Te gustó más \"El Padrino\" o \"El Padrino II\"?\n",
    "\n",
    "Asegúrate de incluir las comillas internas en el texto como parte del string.\n",
    "\n",
    "Imprime el contenido de frase."
   ]
  },
  {
   "cell_type": "code",
   "execution_count": 16,
   "id": "b1519865",
   "metadata": {},
   "outputs": [
    {
     "name": "stdout",
     "output_type": "stream",
     "text": [
      "¿Te gustó más \"El Padrino\" o \"El Padrino II\"?\n"
     ]
    }
   ],
   "source": [
    "frase = '¿Te gustó más \"El Padrino\" o \"El Padrino II\"?'\n",
    "print(frase)"
   ]
  },
  {
   "cell_type": "markdown",
   "id": "442cc8f6",
   "metadata": {},
   "source": [
    "Ejercicio Variables de Texto 3\n",
    "Crea dos variables texto1 y texto2.\n",
    "\n",
    "Asigna el string Viva python a texto1 usando comillas simples, y asigna el mismo string a texto2 pero usando comillas dobles.\n",
    "\n",
    "Crea una variable llamada sonIguales, que almacene el resultado de comprobar si texto1 y texto2 son iguales.\n",
    "\n",
    "Imprime el valor de sonIguales."
   ]
  },
  {
   "cell_type": "code",
   "execution_count": 17,
   "id": "83f2bde4",
   "metadata": {},
   "outputs": [
    {
     "name": "stdout",
     "output_type": "stream",
     "text": [
      "True\n"
     ]
    }
   ],
   "source": [
    "texto1= \"Viva python\"\n",
    "texto2 = 'Viva python'\n",
    "\n",
    "\n",
    "sonIguales = texto1==texto2\n",
    "print(sonIguales)"
   ]
  },
  {
   "cell_type": "markdown",
   "id": "91ff1f73",
   "metadata": {},
   "source": [
    "Funciones\n",
    "Funcion Type()\n",
    "Que tipo de variable es"
   ]
  },
  {
   "cell_type": "code",
   "execution_count": 18,
   "id": "9ad168ba",
   "metadata": {},
   "outputs": [],
   "source": [
    "a = 1 \n",
    "b = '1'"
   ]
  },
  {
   "cell_type": "code",
   "execution_count": 19,
   "id": "093d75a3",
   "metadata": {},
   "outputs": [
    {
     "data": {
      "text/plain": [
       "int"
      ]
     },
     "execution_count": 19,
     "metadata": {},
     "output_type": "execute_result"
    }
   ],
   "source": [
    "type(a)"
   ]
  },
  {
   "cell_type": "code",
   "execution_count": 20,
   "id": "f778bd9f",
   "metadata": {},
   "outputs": [
    {
     "data": {
      "text/plain": [
       "str"
      ]
     },
     "execution_count": 20,
     "metadata": {},
     "output_type": "execute_result"
    }
   ],
   "source": [
    "type(b)"
   ]
  },
  {
   "cell_type": "markdown",
   "id": "bda47dd3",
   "metadata": {},
   "source": [
    "Ejercicio Type() 1\n",
    "Crea la variable mi_variable y asígnale el valor \"cinco\".\n",
    "\n",
    "Imprime el tipo de datos que contiene mi_variable (no solo debes mostrarlo, sino imprimirlo)"
   ]
  },
  {
   "cell_type": "code",
   "execution_count": 24,
   "id": "4ca51231",
   "metadata": {},
   "outputs": [
    {
     "name": "stdout",
     "output_type": "stream",
     "text": [
      "<class 'str'>\n"
     ]
    }
   ],
   "source": [
    "mi_variable = \"cinco\"\n",
    "\n",
    "print(type(mi_variable))"
   ]
  },
  {
   "cell_type": "markdown",
   "id": "e0e4d52b",
   "metadata": {},
   "source": [
    "Ejercicio Type() 2\n",
    "\n",
    "Crea la variable mi_variable y asígnale el valor \"254\" (entre comillas dobles).\n",
    "\n",
    "Imprime el tipo de datos de mi_variable."
   ]
  },
  {
   "cell_type": "code",
   "execution_count": 25,
   "id": "b69ed28d",
   "metadata": {},
   "outputs": [
    {
     "name": "stdout",
     "output_type": "stream",
     "text": [
      "<class 'str'>\n"
     ]
    }
   ],
   "source": [
    "mi_variable = \"254\"\n",
    "print(type(mi_variable))"
   ]
  },
  {
   "cell_type": "markdown",
   "id": "5305026f",
   "metadata": {},
   "source": [
    "Ejercicio Type() 3\n",
    "\n",
    "Define las variables a con un número entero, y b con una cadena de texto.\n",
    "\n",
    "Imprime el tipo de cada una de estas variables.  Por ejemplo, si las variables son a = 5, y b = \"Hola\", tu programa debe imprimir:\n",
    "\n",
    "<class 'int'>\n",
    "<class 'str'>"
   ]
  },
  {
   "cell_type": "code",
   "execution_count": 26,
   "id": "1040e8a3",
   "metadata": {},
   "outputs": [
    {
     "name": "stdout",
     "output_type": "stream",
     "text": [
      "<class 'int'>\n",
      "<class 'str'>\n"
     ]
    }
   ],
   "source": [
    "a = 5\n",
    "b = \"cinco\"\n",
    "\n",
    "print(type(a))\n",
    "print(type(b))"
   ]
  },
  {
   "cell_type": "markdown",
   "id": "6fa99f3e",
   "metadata": {},
   "source": [
    "Numeros en Python"
   ]
  },
  {
   "cell_type": "markdown",
   "id": "a7f4ebea",
   "metadata": {},
   "source": [
    "Ejercicio Números en Python 1\n",
    "Escribe un programa en Python que calcule el área de un rectángulo.\n",
    "\n",
    "Define dos variables, largo y ancho, con valores asignados por ti (puedes asignar valores de tipo int o float).\n",
    "\n",
    "Tu programa debe calcular el área del rectángulo (largo * ancho) y almacenarlo en una variable llamada: area.\n",
    "\n",
    "Imprime el resultado."
   ]
  },
  {
   "cell_type": "code",
   "execution_count": 27,
   "id": "c2acd3ee",
   "metadata": {},
   "outputs": [
    {
     "name": "stdout",
     "output_type": "stream",
     "text": [
      "1200\n"
     ]
    }
   ],
   "source": [
    "largo = 40\n",
    "ancho = 30\n",
    "\n",
    "area = largo * ancho\n",
    "\n",
    "print(area)"
   ]
  },
  {
   "cell_type": "markdown",
   "id": "90290e4e",
   "metadata": {},
   "source": [
    "Ejercicio Números en Python 2\n",
    "Crea un programa en Python que realice la conversión de temperaturas de grados Celsius a Fahrenheit. Sigue estos pasos:\n",
    "\n",
    "\n",
    "\n",
    "Inicializa una Variable: Define una variable llamada celsius y asígnale un valor entero o decimal positivo de tu elección. Por ejemplo, puedes usar celsius = 25.5.\n",
    "\n",
    "Aplica la Fórmula de Conversión: Utiliza la fórmula celsius * 9/5 + 32 para convertir la temperatura de Celsius a Fahrenheit. Asigna el resultado a una variable llamada fahrenheit.\n",
    "\n",
    "Muestra el Resultado: Imprime el valor de la variable fahrenheit, que representa la temperatura en grados Fahrenheit."
   ]
  },
  {
   "cell_type": "code",
   "execution_count": 29,
   "id": "b833a996",
   "metadata": {},
   "outputs": [
    {
     "name": "stdout",
     "output_type": "stream",
     "text": [
      "62.6\n"
     ]
    }
   ],
   "source": [
    "celcius = 17\n",
    "fahrenheit = (celcius * 9/5)+ 32\n",
    "\n",
    "print(fahrenheit)"
   ]
  },
  {
   "cell_type": "code",
   "execution_count": 30,
   "id": "5150264b",
   "metadata": {},
   "outputs": [
    {
     "data": {
      "text/plain": [
       "1.8"
      ]
     },
     "execution_count": 30,
     "metadata": {},
     "output_type": "execute_result"
    }
   ],
   "source": [
    "9/5"
   ]
  },
  {
   "cell_type": "code",
   "execution_count": null,
   "id": "b201259e",
   "metadata": {},
   "outputs": [],
   "source": []
  }
 ],
 "metadata": {
  "kernelspec": {
   "display_name": "Python 3 (ipykernel)",
   "language": "python",
   "name": "python3"
  },
  "language_info": {
   "codemirror_mode": {
    "name": "ipython",
    "version": 3
   },
   "file_extension": ".py",
   "mimetype": "text/x-python",
   "name": "python",
   "nbconvert_exporter": "python",
   "pygments_lexer": "ipython3",
   "version": "3.11.5"
  }
 },
 "nbformat": 4,
 "nbformat_minor": 5
}
