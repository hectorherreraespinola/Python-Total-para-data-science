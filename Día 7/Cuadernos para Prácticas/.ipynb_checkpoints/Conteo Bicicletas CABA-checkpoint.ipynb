{
 "cells": [
  {
   "cell_type": "code",
   "execution_count": 7,
   "id": "a5c8b2f1",
   "metadata": {},
   "outputs": [
    {
     "data": {
      "text/html": [
       "<div>\n",
       "<style scoped>\n",
       "    .dataframe tbody tr th:only-of-type {\n",
       "        vertical-align: middle;\n",
       "    }\n",
       "\n",
       "    .dataframe tbody tr th {\n",
       "        vertical-align: top;\n",
       "    }\n",
       "\n",
       "    .dataframe thead th {\n",
       "        text-align: right;\n",
       "    }\n",
       "</style>\n",
       "<table border=\"1\" class=\"dataframe\">\n",
       "  <thead>\n",
       "    <tr style=\"text-align: right;\">\n",
       "      <th></th>\n",
       "      <th>CODIGO_LOCACION</th>\n",
       "      <th>HORA</th>\n",
       "      <th>CANTIDAD</th>\n",
       "      <th>SENTIDO</th>\n",
       "      <th>LATITUD</th>\n",
       "      <th>LONGITUD</th>\n",
       "    </tr>\n",
       "  </thead>\n",
       "  <tbody>\n",
       "    <tr>\n",
       "      <th>0</th>\n",
       "      <td>48Q3CJ00+</td>\n",
       "      <td>31MAR2020:15:00:00</td>\n",
       "      <td>729</td>\n",
       "      <td>Interna</td>\n",
       "      <td>-34.588796</td>\n",
       "      <td>-58.381520</td>\n",
       "    </tr>\n",
       "    <tr>\n",
       "      <th>1</th>\n",
       "      <td>48Q3CJ00+</td>\n",
       "      <td>31MAR2020:15:00:00</td>\n",
       "      <td>447</td>\n",
       "      <td>Egreso</td>\n",
       "      <td>-34.588796</td>\n",
       "      <td>-58.381520</td>\n",
       "    </tr>\n",
       "    <tr>\n",
       "      <th>2</th>\n",
       "      <td>48Q39G00+</td>\n",
       "      <td>31MAR2020:15:00:00</td>\n",
       "      <td>175</td>\n",
       "      <td>Interna</td>\n",
       "      <td>-34.633299</td>\n",
       "      <td>-58.468594</td>\n",
       "    </tr>\n",
       "    <tr>\n",
       "      <th>3</th>\n",
       "      <td>48Q39G00+</td>\n",
       "      <td>31MAR2020:15:00:00</td>\n",
       "      <td>1186</td>\n",
       "      <td>Egreso</td>\n",
       "      <td>-34.633299</td>\n",
       "      <td>-58.468594</td>\n",
       "    </tr>\n",
       "    <tr>\n",
       "      <th>4</th>\n",
       "      <td>48Q3CH00+</td>\n",
       "      <td>31MAR2020:15:00:00</td>\n",
       "      <td>35</td>\n",
       "      <td>Egreso</td>\n",
       "      <td>-34.579632</td>\n",
       "      <td>-58.427733</td>\n",
       "    </tr>\n",
       "  </tbody>\n",
       "</table>\n",
       "</div>"
      ],
      "text/plain": [
       "  CODIGO_LOCACION                HORA  CANTIDAD  SENTIDO    LATITUD   LONGITUD\n",
       "0       48Q3CJ00+  31MAR2020:15:00:00       729  Interna -34.588796 -58.381520\n",
       "1       48Q3CJ00+  31MAR2020:15:00:00       447   Egreso -34.588796 -58.381520\n",
       "2       48Q39G00+  31MAR2020:15:00:00       175  Interna -34.633299 -58.468594\n",
       "3       48Q39G00+  31MAR2020:15:00:00      1186   Egreso -34.633299 -58.468594\n",
       "4       48Q3CH00+  31MAR2020:15:00:00        35   Egreso -34.579632 -58.427733"
      ]
     },
     "execution_count": 7,
     "metadata": {},
     "output_type": "execute_result"
    }
   ],
   "source": [
    "import pandas as pd\n",
    "\n",
    "ruta = \"C:/Users/hherre13/OneDrive - JNJ/Documents/Hector/Python Total para data science/Día 7/Cuadernos para Prácticas/dataset_flujo_vehicular.csv\"\n",
    "\n",
    "df = pd.read_csv(ruta)\n",
    "df.head()"
   ]
  },
  {
   "cell_type": "code",
   "execution_count": 9,
   "id": "23608a3b",
   "metadata": {},
   "outputs": [
    {
     "name": "stdout",
     "output_type": "stream",
     "text": [
      "<class 'pandas.core.frame.DataFrame'>\n",
      "RangeIndex: 189814 entries, 0 to 189813\n",
      "Data columns (total 6 columns):\n",
      " #   Column           Non-Null Count   Dtype  \n",
      "---  ------           --------------   -----  \n",
      " 0   CODIGO_LOCACION  189814 non-null  object \n",
      " 1   HORA             189814 non-null  object \n",
      " 2   CANTIDAD         189814 non-null  int64  \n",
      " 3   SENTIDO          189814 non-null  object \n",
      " 4   LATITUD          186412 non-null  float64\n",
      " 5   LONGITUD         186412 non-null  float64\n",
      "dtypes: float64(2), int64(1), object(3)\n",
      "memory usage: 8.7+ MB\n"
     ]
    }
   ],
   "source": [
    "df.info()"
   ]
  },
  {
   "cell_type": "code",
   "execution_count": null,
   "id": "77c4c29d",
   "metadata": {},
   "outputs": [],
   "source": []
  }
 ],
 "metadata": {
  "kernelspec": {
   "display_name": "Python 3 (ipykernel)",
   "language": "python",
   "name": "python3"
  },
  "language_info": {
   "codemirror_mode": {
    "name": "ipython",
    "version": 3
   },
   "file_extension": ".py",
   "mimetype": "text/x-python",
   "name": "python",
   "nbconvert_exporter": "python",
   "pygments_lexer": "ipython3",
   "version": "3.11.5"
  }
 },
 "nbformat": 4,
 "nbformat_minor": 5
}
