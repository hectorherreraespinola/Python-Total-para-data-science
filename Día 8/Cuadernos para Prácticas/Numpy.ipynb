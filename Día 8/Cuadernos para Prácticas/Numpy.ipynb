{
 "cells": [
  {
   "cell_type": "markdown",
   "id": "f55d003b",
   "metadata": {},
   "source": [
    "Numpy: Numerical Python"
   ]
  },
  {
   "cell_type": "code",
   "execution_count": 1,
   "id": "eb3bb078",
   "metadata": {},
   "outputs": [],
   "source": [
    "import numpy as np\n",
    "import pandas as pd\n",
    "import time\n"
   ]
  },
  {
   "cell_type": "code",
   "execution_count": 3,
   "id": "15808ab6",
   "metadata": {},
   "outputs": [
    {
     "data": {
      "text/html": [
       "<div>\n",
       "<style scoped>\n",
       "    .dataframe tbody tr th:only-of-type {\n",
       "        vertical-align: middle;\n",
       "    }\n",
       "\n",
       "    .dataframe tbody tr th {\n",
       "        vertical-align: top;\n",
       "    }\n",
       "\n",
       "    .dataframe thead th {\n",
       "        text-align: right;\n",
       "    }\n",
       "</style>\n",
       "<table border=\"1\" class=\"dataframe\">\n",
       "  <thead>\n",
       "    <tr style=\"text-align: right;\">\n",
       "      <th></th>\n",
       "      <th>Ciudad</th>\n",
       "      <th>País</th>\n",
       "      <th>Población</th>\n",
       "      <th>Visitantes</th>\n",
       "    </tr>\n",
       "  </thead>\n",
       "  <tbody>\n",
       "    <tr>\n",
       "      <th>0</th>\n",
       "      <td>Ciudad de México</td>\n",
       "      <td>México</td>\n",
       "      <td>9265833</td>\n",
       "      <td>21000000</td>\n",
       "    </tr>\n",
       "    <tr>\n",
       "      <th>1</th>\n",
       "      <td>Buenos Aires</td>\n",
       "      <td>Argentina</td>\n",
       "      <td>3059574</td>\n",
       "      <td>15000000</td>\n",
       "    </tr>\n",
       "    <tr>\n",
       "      <th>2</th>\n",
       "      <td>Río de Janeiro</td>\n",
       "      <td>Brasil</td>\n",
       "      <td>6748314</td>\n",
       "      <td>13000000</td>\n",
       "    </tr>\n",
       "    <tr>\n",
       "      <th>3</th>\n",
       "      <td>Lima</td>\n",
       "      <td>Perú</td>\n",
       "      <td>9756020</td>\n",
       "      <td>9000000</td>\n",
       "    </tr>\n",
       "    <tr>\n",
       "      <th>4</th>\n",
       "      <td>Bogotá</td>\n",
       "      <td>Colombia</td>\n",
       "      <td>7181663</td>\n",
       "      <td>8000000</td>\n",
       "    </tr>\n",
       "    <tr>\n",
       "      <th>5</th>\n",
       "      <td>Santiago de Chile</td>\n",
       "      <td>Chile</td>\n",
       "      <td>6199241</td>\n",
       "      <td>7500000</td>\n",
       "    </tr>\n",
       "    <tr>\n",
       "      <th>6</th>\n",
       "      <td>São Paulo</td>\n",
       "      <td>Brasil</td>\n",
       "      <td>12333146</td>\n",
       "      <td>20000000</td>\n",
       "    </tr>\n",
       "    <tr>\n",
       "      <th>7</th>\n",
       "      <td>La Habana</td>\n",
       "      <td>Cuba</td>\n",
       "      <td>2164182</td>\n",
       "      <td>4000000</td>\n",
       "    </tr>\n",
       "    <tr>\n",
       "      <th>8</th>\n",
       "      <td>Cancún</td>\n",
       "      <td>México</td>\n",
       "      <td>888124</td>\n",
       "      <td>5000000</td>\n",
       "    </tr>\n",
       "    <tr>\n",
       "      <th>9</th>\n",
       "      <td>Cartagena</td>\n",
       "      <td>Colombia</td>\n",
       "      <td>1036671</td>\n",
       "      <td>3000000</td>\n",
       "    </tr>\n",
       "  </tbody>\n",
       "</table>\n",
       "</div>"
      ],
      "text/plain": [
       "              Ciudad       País  Población  Visitantes\n",
       "0   Ciudad de México     México    9265833    21000000\n",
       "1       Buenos Aires  Argentina    3059574    15000000\n",
       "2     Río de Janeiro     Brasil    6748314    13000000\n",
       "3               Lima       Perú    9756020     9000000\n",
       "4             Bogotá   Colombia    7181663     8000000\n",
       "5  Santiago de Chile      Chile    6199241     7500000\n",
       "6          São Paulo     Brasil   12333146    20000000\n",
       "7          La Habana       Cuba    2164182     4000000\n",
       "8             Cancún     México     888124     5000000\n",
       "9          Cartagena   Colombia    1036671     3000000"
      ]
     },
     "execution_count": 3,
     "metadata": {},
     "output_type": "execute_result"
    }
   ],
   "source": [
    "ruta = \"C:/Users/hherre13/OneDrive - JNJ/Documents/Hector/Python Total para data science/Día 8/Cuadernos para Prácticas/Ciudades_Visitadas_Latinoamerica_2023.csv\"\n",
    "df =pd.read_csv(ruta)\n",
    "df"
   ]
  },
  {
   "cell_type": "code",
   "execution_count": 7,
   "id": "de1bcff9",
   "metadata": {},
   "outputs": [
    {
     "data": {
      "text/plain": [
       "5863277.0"
      ]
     },
     "execution_count": 7,
     "metadata": {},
     "output_type": "execute_result"
    }
   ],
   "source": [
    "#Mean\n",
    "np.round(df[\"Población\"].mean())"
   ]
  },
  {
   "cell_type": "code",
   "execution_count": 8,
   "id": "a8ab237c",
   "metadata": {},
   "outputs": [
    {
     "data": {
      "text/plain": [
       "3000000"
      ]
     },
     "execution_count": 8,
     "metadata": {},
     "output_type": "execute_result"
    }
   ],
   "source": [
    "np.min(df[\"Visitantes\"])"
   ]
  },
  {
   "cell_type": "code",
   "execution_count": 10,
   "id": "164b6c0d",
   "metadata": {},
   "outputs": [
    {
     "data": {
      "text/plain": [
       "5863277.0"
      ]
     },
     "execution_count": 10,
     "metadata": {},
     "output_type": "execute_result"
    }
   ],
   "source": [
    "#Ejercicio\n",
    "\n",
    "import pandas as pd \n",
    "import numpy as np \n",
    "\n",
    "\n",
    "datos = {\n",
    "    \"Ciudad\": [\"Ciudad de México\", \"Buenos Aires\", \"Río de Janeiro\", \"Lima\", \"Bogotá\", \"Santiago de Chile\", \"São Paulo\", \"La Habana\", \"Cancún\", \"Cartagena\"],\n",
    "    \"País\": [\"México\", \"Argentina\", \"Brasil\", \"Perú\", \"Colombia\", \"Chile\", \"Brasil\", \"Cuba\", \"México\", \"Colombia\"],\n",
    "    \"Población\": [9265833, 3059574, 6748314, 9756020, 7181663, 6199241, 12333146, 2164182, 888124, 1036671],\n",
    "    \"Visitantes\": [21000000, 15000000, 13000000, 9000000, 8000000, 7500000, 20000000, 4000000, 5000000, 3000000]\n",
    "}\n",
    "\n",
    "df = pd.DataFrame(datos)\n",
    "\n",
    "promedio_poblacion = np.round(df[\"Población\"].mean())\n",
    "promedio_poblacion"
   ]
  },
  {
   "cell_type": "code",
   "execution_count": 11,
   "id": "f978da48",
   "metadata": {},
   "outputs": [
    {
     "data": {
      "text/plain": [
       "3000000"
      ]
     },
     "execution_count": 11,
     "metadata": {},
     "output_type": "execute_result"
    }
   ],
   "source": [
    "#Ejercicio 2 \n",
    "\n",
    "import pandas as pd \n",
    "import numpy as np \n",
    "\n",
    "datos = {\n",
    "    \"Ciudad\": [\"Ciudad de México\", \"Buenos Aires\", \"Río de Janeiro\", \"Lima\", \"Bogotá\", \"Santiago de Chile\", \"São Paulo\", \"La Habana\", \"Cancún\", \"Cartagena\"],\n",
    "    \"País\": [\"México\", \"Argentina\", \"Brasil\", \"Perú\", \"Colombia\", \"Chile\", \"Brasil\", \"Cuba\", \"México\", \"Colombia\"],\n",
    "    \"Población\": [9265833, 3059574, 6748314, 9756020, 7181663, 6199241, 12333146, 2164182, 888124, 1036671],\n",
    "    \"Visitantes\": [21000000, 15000000, 13000000, 9000000, 8000000, 7500000, 20000000, 4000000, 5000000, 3000000]\n",
    "}\n",
    "\n",
    "df = pd.DataFrame(datos)\n",
    "\n",
    "min_visitantes  =np.min(df[\"Visitantes\"])\n",
    "min_visitantes\n"
   ]
  },
  {
   "cell_type": "code",
   "execution_count": 12,
   "id": "c6305afc",
   "metadata": {},
   "outputs": [
    {
     "data": {
      "text/plain": [
       "21000000"
      ]
     },
     "execution_count": 12,
     "metadata": {},
     "output_type": "execute_result"
    }
   ],
   "source": [
    "#Ejercicio 3\n",
    "\n",
    "\n",
    "import pandas as pd \n",
    "import numpy as np \n",
    "\n",
    "datos = {\n",
    "    \"Ciudad\": [\"Ciudad de México\", \"Buenos Aires\", \"Río de Janeiro\", \"Lima\", \"Bogotá\", \"Santiago de Chile\", \"São Paulo\", \"La Habana\", \"Cancún\", \"Cartagena\"],\n",
    "    \"País\": [\"México\", \"Argentina\", \"Brasil\", \"Perú\", \"Colombia\", \"Chile\", \"Brasil\", \"Cuba\", \"México\", \"Colombia\"],\n",
    "    \"Población\": [9265833, 3059574, 6748314, 9756020, 7181663, 6199241, 12333146, 2164182, 888124, 1036671],\n",
    "    \"Visitantes\": [21000000, 15000000, 13000000, 9000000, 8000000, 7500000, 20000000, 4000000, 5000000, 3000000]\n",
    "}\n",
    "\n",
    "df = pd.DataFrame(datos)\n",
    "\n",
    "max_visitantes  =np.max(df[\"Visitantes\"])\n",
    "max_visitantes\n"
   ]
  },
  {
   "cell_type": "markdown",
   "id": "d5313069",
   "metadata": {},
   "source": [
    "Arrays"
   ]
  },
  {
   "cell_type": "code",
   "execution_count": 13,
   "id": "9f8dc748",
   "metadata": {},
   "outputs": [
    {
     "data": {
      "text/plain": [
       "array([1, 2, 3, 4, 5])"
      ]
     },
     "execution_count": 13,
     "metadata": {},
     "output_type": "execute_result"
    }
   ],
   "source": [
    "mi_array = np.array([1,2,3,4,5])\n",
    "mi_array"
   ]
  },
  {
   "cell_type": "code",
   "execution_count": 14,
   "id": "a9a6b226",
   "metadata": {},
   "outputs": [
    {
     "data": {
      "text/plain": [
       "numpy.ndarray"
      ]
     },
     "execution_count": 14,
     "metadata": {},
     "output_type": "execute_result"
    }
   ],
   "source": [
    "type(mi_array)"
   ]
  },
  {
   "cell_type": "code",
   "execution_count": 15,
   "id": "3b0ca115",
   "metadata": {},
   "outputs": [],
   "source": [
    "#Comparacion velocidad\n",
    "lista_grande = list(range(1000000))\n",
    "array_grande=np.array(lista_grande)"
   ]
  },
  {
   "cell_type": "code",
   "execution_count": 16,
   "id": "ddf8fcc1",
   "metadata": {},
   "outputs": [
    {
     "data": {
      "text/plain": [
       "list"
      ]
     },
     "execution_count": 16,
     "metadata": {},
     "output_type": "execute_result"
    }
   ],
   "source": [
    "type(lista_grande)"
   ]
  },
  {
   "cell_type": "code",
   "execution_count": 17,
   "id": "0b049363",
   "metadata": {},
   "outputs": [
    {
     "data": {
      "text/plain": [
       "numpy.ndarray"
      ]
     },
     "execution_count": 17,
     "metadata": {},
     "output_type": "execute_result"
    }
   ],
   "source": [
    "type(array_grande)"
   ]
  },
  {
   "cell_type": "code",
   "execution_count": 19,
   "id": "29987665",
   "metadata": {},
   "outputs": [
    {
     "name": "stdout",
     "output_type": "stream",
     "text": [
      "Tiempo lista:  0.050078392028808594\n"
     ]
    }
   ],
   "source": [
    "import time\n",
    "\n",
    "inicio_lista = time.time()\n",
    "for i in lista_grande:\n",
    "    i**2\n",
    "fin_lista =time.time()\n",
    "print(\"Tiempo lista: \",fin_lista-inicio_lista)"
   ]
  },
  {
   "cell_type": "code",
   "execution_count": 20,
   "id": "62f8a9c2",
   "metadata": {},
   "outputs": [
    {
     "name": "stdout",
     "output_type": "stream",
     "text": [
      "Tiempo lista:  0.002464771270751953\n"
     ]
    }
   ],
   "source": [
    "inicio_lista = time.time()\n",
    "array_grande **2\n",
    "fin_lista =time.time()\n",
    "print(\"Tiempo lista: \",fin_lista-inicio_lista)"
   ]
  },
  {
   "cell_type": "markdown",
   "id": "231ee840",
   "metadata": {},
   "source": [
    "Arrays"
   ]
  },
  {
   "cell_type": "code",
   "execution_count": 1,
   "id": "25a4ab59",
   "metadata": {},
   "outputs": [],
   "source": [
    "import numpy as np\n",
    "array = np.array([1,2,3])"
   ]
  },
  {
   "cell_type": "code",
   "execution_count": 2,
   "id": "3c0ae7e2",
   "metadata": {},
   "outputs": [
    {
     "data": {
      "text/plain": [
       "3"
      ]
     },
     "execution_count": 2,
     "metadata": {},
     "output_type": "execute_result"
    }
   ],
   "source": [
    "len(array)"
   ]
  },
  {
   "cell_type": "code",
   "execution_count": 3,
   "id": "039a55c3",
   "metadata": {},
   "outputs": [
    {
     "data": {
      "text/plain": [
       "(3,)"
      ]
     },
     "execution_count": 3,
     "metadata": {},
     "output_type": "execute_result"
    }
   ],
   "source": [
    "array.shape"
   ]
  },
  {
   "cell_type": "code",
   "execution_count": 6,
   "id": "f3056bf4",
   "metadata": {},
   "outputs": [
    {
     "data": {
      "text/plain": [
       "array([[1, 2, 3],\n",
       "       [4, 5, 6]])"
      ]
     },
     "execution_count": 6,
     "metadata": {},
     "output_type": "execute_result"
    }
   ],
   "source": [
    "array_2d = np.array([[1,2,3],[4,5,6]])\n",
    "array_2d"
   ]
  },
  {
   "cell_type": "code",
   "execution_count": 7,
   "id": "3c0b68f6",
   "metadata": {},
   "outputs": [
    {
     "data": {
      "text/plain": [
       "2"
      ]
     },
     "execution_count": 7,
     "metadata": {},
     "output_type": "execute_result"
    }
   ],
   "source": [
    "len(array_2d)"
   ]
  },
  {
   "cell_type": "code",
   "execution_count": 8,
   "id": "2d84b7a3",
   "metadata": {},
   "outputs": [
    {
     "data": {
      "text/plain": [
       "(2, 3)"
      ]
     },
     "execution_count": 8,
     "metadata": {},
     "output_type": "execute_result"
    }
   ],
   "source": [
    "array_2d.shape"
   ]
  },
  {
   "cell_type": "code",
   "execution_count": 10,
   "id": "f100f741",
   "metadata": {},
   "outputs": [
    {
     "name": "stdout",
     "output_type": "stream",
     "text": [
      "(10,)\n"
     ]
    }
   ],
   "source": [
    "import numpy as np\n",
    "\n",
    "array_enteros = np.array([1,2,3,4,5,6,7,8,9,10])\n",
    "form_array = array_enteros.shape\n",
    "print(form_array)"
   ]
  },
  {
   "cell_type": "markdown",
   "id": "c9856e1e",
   "metadata": {},
   "source": [
    "Manipular arrays"
   ]
  },
  {
   "cell_type": "code",
   "execution_count": 11,
   "id": "de9ce697",
   "metadata": {},
   "outputs": [],
   "source": [
    "x = [1,2,3]\n",
    "y = [1,2,3]\n",
    "z = [1,2,3]\n"
   ]
  },
  {
   "cell_type": "code",
   "execution_count": 12,
   "id": "7dc6f431",
   "metadata": {},
   "outputs": [
    {
     "data": {
      "text/plain": [
       "array([1, 2, 3, 1, 2, 3, 1, 2, 3])"
      ]
     },
     "execution_count": 12,
     "metadata": {},
     "output_type": "execute_result"
    }
   ],
   "source": [
    "np.concatenate([x,y,z])"
   ]
  },
  {
   "cell_type": "code",
   "execution_count": 13,
   "id": "0542a6c4",
   "metadata": {},
   "outputs": [
    {
     "data": {
      "text/plain": [
       "array([[1, 2, 5, 6],\n",
       "       [3, 4, 7, 8]])"
      ]
     },
     "execution_count": 13,
     "metadata": {},
     "output_type": "execute_result"
    }
   ],
   "source": [
    "a = [[1,2],\n",
    "    [3,4]]\n",
    "b = [[5,6],\n",
    "    [7,8]]\n",
    "\n",
    "np.concatenate([a,b],axis=1)"
   ]
  },
  {
   "cell_type": "code",
   "execution_count": 14,
   "id": "4033ef11",
   "metadata": {},
   "outputs": [
    {
     "data": {
      "text/plain": [
       "array([[1, 2],\n",
       "       [3, 4],\n",
       "       [5, 6],\n",
       "       [7, 8]])"
      ]
     },
     "execution_count": 14,
     "metadata": {},
     "output_type": "execute_result"
    }
   ],
   "source": [
    "a = [[1,2],\n",
    "    [3,4]]\n",
    "b = [[5,6],\n",
    "    [7,8]]\n",
    "\n",
    "np.concatenate([a,b],axis=0)"
   ]
  },
  {
   "cell_type": "code",
   "execution_count": 15,
   "id": "a711907d",
   "metadata": {},
   "outputs": [],
   "source": [
    "array_concatenado = np.concatenate([a,b],axis=0)"
   ]
  },
  {
   "cell_type": "code",
   "execution_count": 18,
   "id": "79910ae0",
   "metadata": {},
   "outputs": [
    {
     "data": {
      "text/plain": [
       "(4, 2)"
      ]
     },
     "execution_count": 18,
     "metadata": {},
     "output_type": "execute_result"
    }
   ],
   "source": [
    "array_concatenado.shape"
   ]
  },
  {
   "cell_type": "code",
   "execution_count": 19,
   "id": "6d7dcbb6",
   "metadata": {},
   "outputs": [
    {
     "data": {
      "text/plain": [
       "array([[1, 2, 3, 4],\n",
       "       [5, 6, 7, 8]])"
      ]
     },
     "execution_count": 19,
     "metadata": {},
     "output_type": "execute_result"
    }
   ],
   "source": [
    "array_reformado  = array_concatenado.reshape(2,4)\n",
    "array_reformado"
   ]
  },
  {
   "cell_type": "code",
   "execution_count": 20,
   "id": "754958a2",
   "metadata": {},
   "outputs": [
    {
     "data": {
      "text/plain": [
       "array([[ 2,  4,  6,  8],\n",
       "       [10, 12, 14, 16]])"
      ]
     },
     "execution_count": 20,
     "metadata": {},
     "output_type": "execute_result"
    }
   ],
   "source": [
    "array_sumado = array_reformado + array_reformado\n",
    "array_sumado"
   ]
  },
  {
   "cell_type": "code",
   "execution_count": 21,
   "id": "d7d68f9a",
   "metadata": {},
   "outputs": [
    {
     "data": {
      "text/plain": [
       "array([[ 1,  4,  9, 16],\n",
       "       [25, 36, 49, 64]])"
      ]
     },
     "execution_count": 21,
     "metadata": {},
     "output_type": "execute_result"
    }
   ],
   "source": [
    "array_multi = array_reformado * array_reformado\n",
    "array_multi"
   ]
  },
  {
   "cell_type": "code",
   "execution_count": 24,
   "id": "0f8abaea",
   "metadata": {},
   "outputs": [
    {
     "data": {
      "text/plain": [
       "array([[1., 2., 3., 4.],\n",
       "       [5., 6., 7., 8.]])"
      ]
     },
     "execution_count": 24,
     "metadata": {},
     "output_type": "execute_result"
    }
   ],
   "source": [
    "raices = np.sqrt(array_multi)\n",
    "raices"
   ]
  },
  {
   "cell_type": "markdown",
   "id": "a5fadfee",
   "metadata": {},
   "source": [
    "Indexacion y Segmentacion"
   ]
  },
  {
   "cell_type": "code",
   "execution_count": 2,
   "id": "da366bd6",
   "metadata": {},
   "outputs": [],
   "source": [
    "import numpy as np\n",
    "\n",
    "array1d = np.array([1,2,3,4,5])\n",
    "array2d= np.array([[1,2,3],\n",
    "                 [4,5,6],\n",
    "                 [7,8,9]])"
   ]
  },
  {
   "cell_type": "code",
   "execution_count": 3,
   "id": "e6253262",
   "metadata": {},
   "outputs": [
    {
     "data": {
      "text/plain": [
       "1"
      ]
     },
     "execution_count": 3,
     "metadata": {},
     "output_type": "execute_result"
    }
   ],
   "source": [
    "array1d [0]"
   ]
  },
  {
   "cell_type": "code",
   "execution_count": 4,
   "id": "6f4f3056",
   "metadata": {},
   "outputs": [
    {
     "data": {
      "text/plain": [
       "5"
      ]
     },
     "execution_count": 4,
     "metadata": {},
     "output_type": "execute_result"
    }
   ],
   "source": [
    "array1d[-1]"
   ]
  },
  {
   "cell_type": "raw",
   "id": "1378b393",
   "metadata": {},
   "source": []
  },
  {
   "cell_type": "code",
   "execution_count": 5,
   "id": "31fc42b7",
   "metadata": {},
   "outputs": [
    {
     "data": {
      "text/plain": [
       "array([1, 2, 3])"
      ]
     },
     "execution_count": 5,
     "metadata": {},
     "output_type": "execute_result"
    }
   ],
   "source": [
    "array2d[0] ##Me brinda el primer elemento de la lisa grande [[1,2,3],[4,5,6]]"
   ]
  },
  {
   "cell_type": "code",
   "execution_count": 6,
   "id": "e0e18371",
   "metadata": {},
   "outputs": [
    {
     "data": {
      "text/plain": [
       "6"
      ]
     },
     "execution_count": 6,
     "metadata": {},
     "output_type": "execute_result"
    }
   ],
   "source": [
    "#quiero el 6\n",
    "array2d[1][2]"
   ]
  },
  {
   "cell_type": "code",
   "execution_count": 7,
   "id": "0a8985e6",
   "metadata": {},
   "outputs": [
    {
     "data": {
      "text/plain": [
       "2"
      ]
     },
     "execution_count": 7,
     "metadata": {},
     "output_type": "execute_result"
    }
   ],
   "source": [
    "#quiero el 2\n",
    "array2d[0][1] #primero la fila y luego el indice dentro de la fila"
   ]
  },
  {
   "cell_type": "code",
   "execution_count": 8,
   "id": "c1f79c58",
   "metadata": {},
   "outputs": [
    {
     "data": {
      "text/plain": [
       "6"
      ]
     },
     "execution_count": 8,
     "metadata": {},
     "output_type": "execute_result"
    }
   ],
   "source": [
    "array2d[1,2] #Se puede hacer de esta fomra"
   ]
  },
  {
   "cell_type": "code",
   "execution_count": 9,
   "id": "01834bb8",
   "metadata": {},
   "outputs": [
    {
     "data": {
      "text/plain": [
       "array([2, 3, 4])"
      ]
     },
     "execution_count": 9,
     "metadata": {},
     "output_type": "execute_result"
    }
   ],
   "source": [
    "#Slicing\n",
    "array1d[1:4]"
   ]
  },
  {
   "cell_type": "code",
   "execution_count": 10,
   "id": "82b3a15f",
   "metadata": {},
   "outputs": [
    {
     "data": {
      "text/plain": [
       "array([4, 5, 6])"
      ]
     },
     "execution_count": 10,
     "metadata": {},
     "output_type": "execute_result"
    }
   ],
   "source": [
    "array2d[1, :] ##Arranco con la fila 1 y luego quiero toda la fila"
   ]
  },
  {
   "cell_type": "code",
   "execution_count": 11,
   "id": "77ba0c0a",
   "metadata": {},
   "outputs": [
    {
     "data": {
      "text/plain": [
       "array([5, 6])"
      ]
     },
     "execution_count": 11,
     "metadata": {},
     "output_type": "execute_result"
    }
   ],
   "source": [
    "#los dos ultimos numoers\n",
    "array2d[1, 1:3]"
   ]
  },
  {
   "cell_type": "code",
   "execution_count": 12,
   "id": "3ff8a3e0",
   "metadata": {},
   "outputs": [
    {
     "data": {
      "text/plain": [
       "array([2, 5, 8])"
      ]
     },
     "execution_count": 12,
     "metadata": {},
     "output_type": "execute_result"
    }
   ],
   "source": [
    "#Columna completa\n",
    "array2d[:,1] #Todo y luego la primer columna"
   ]
  },
  {
   "cell_type": "code",
   "execution_count": 14,
   "id": "bba0a719",
   "metadata": {},
   "outputs": [
    {
     "data": {
      "text/plain": [
       "array([[1, 2],\n",
       "       [4, 5]])"
      ]
     },
     "execution_count": 14,
     "metadata": {},
     "output_type": "execute_result"
    }
   ],
   "source": [
    "array2d[:2,:2] #Las primeras dos columnas hsata la segunda fila"
   ]
  },
  {
   "cell_type": "code",
   "execution_count": 15,
   "id": "f14b5123",
   "metadata": {},
   "outputs": [
    {
     "data": {
      "text/plain": [
       "array([False, False, False,  True,  True])"
      ]
     },
     "execution_count": 15,
     "metadata": {},
     "output_type": "execute_result"
    }
   ],
   "source": [
    "#Numeros mayores a 3\n",
    "array1d > 3"
   ]
  },
  {
   "cell_type": "code",
   "execution_count": 16,
   "id": "0a62a509",
   "metadata": {},
   "outputs": [
    {
     "data": {
      "text/plain": [
       "array([[False,  True, False],\n",
       "       [ True, False,  True],\n",
       "       [False,  True, False]])"
      ]
     },
     "execution_count": 16,
     "metadata": {},
     "output_type": "execute_result"
    }
   ],
   "source": [
    "array2d%2 == 0 "
   ]
  },
  {
   "cell_type": "markdown",
   "id": "33cf9f61",
   "metadata": {},
   "source": [
    "Forma y estructura "
   ]
  },
  {
   "cell_type": "code",
   "execution_count": 25,
   "id": "6e639d1c",
   "metadata": {},
   "outputs": [],
   "source": [
    "array= np.array([1,2,3,4,5,6,7,8,9])"
   ]
  },
  {
   "cell_type": "code",
   "execution_count": 26,
   "id": "7d22f5b7",
   "metadata": {},
   "outputs": [
    {
     "data": {
      "text/plain": [
       "array([1, 2, 3, 4, 5, 6, 7, 8, 9])"
      ]
     },
     "execution_count": 26,
     "metadata": {},
     "output_type": "execute_result"
    }
   ],
   "source": [
    "array"
   ]
  },
  {
   "cell_type": "code",
   "execution_count": 27,
   "id": "a7c3b65c",
   "metadata": {},
   "outputs": [
    {
     "data": {
      "text/plain": [
       "(9,)"
      ]
     },
     "execution_count": 27,
     "metadata": {},
     "output_type": "execute_result"
    }
   ],
   "source": [
    "array.shape"
   ]
  },
  {
   "cell_type": "code",
   "execution_count": 28,
   "id": "2ddd477f",
   "metadata": {},
   "outputs": [
    {
     "data": {
      "text/plain": [
       "array([[1, 2, 3],\n",
       "       [4, 5, 6],\n",
       "       [7, 8, 9]])"
      ]
     },
     "execution_count": 28,
     "metadata": {},
     "output_type": "execute_result"
    }
   ],
   "source": [
    "array_mod = array.reshape(3,3)\n",
    "array_mod"
   ]
  },
  {
   "cell_type": "code",
   "execution_count": 30,
   "id": "b34351af",
   "metadata": {},
   "outputs": [
    {
     "data": {
      "text/plain": [
       "array([[1, 2, 3],\n",
       "       [4, 5, 6],\n",
       "       [7, 8, 9]])"
      ]
     },
     "execution_count": 30,
     "metadata": {},
     "output_type": "execute_result"
    }
   ],
   "source": [
    "array_mod2=array.reshape(-1,3)\n",
    "array_mod2"
   ]
  },
  {
   "cell_type": "code",
   "execution_count": 31,
   "id": "1d67cff8",
   "metadata": {},
   "outputs": [],
   "source": [
    "array_volteado = array_mod2.transpose()"
   ]
  },
  {
   "cell_type": "code",
   "execution_count": 32,
   "id": "a6b2af3d",
   "metadata": {},
   "outputs": [
    {
     "data": {
      "text/plain": [
       "array([[1, 4, 7],\n",
       "       [2, 5, 8],\n",
       "       [3, 6, 9]])"
      ]
     },
     "execution_count": 32,
     "metadata": {},
     "output_type": "execute_result"
    }
   ],
   "source": [
    "array_volteado"
   ]
  },
  {
   "cell_type": "code",
   "execution_count": 33,
   "id": "1bc18047",
   "metadata": {},
   "outputs": [],
   "source": [
    "array_chato = array_mod.flatten()"
   ]
  },
  {
   "cell_type": "code",
   "execution_count": 34,
   "id": "d0e757c1",
   "metadata": {},
   "outputs": [
    {
     "data": {
      "text/plain": [
       "array([1, 2, 3, 4, 5, 6, 7, 8, 9])"
      ]
     },
     "execution_count": 34,
     "metadata": {},
     "output_type": "execute_result"
    }
   ],
   "source": [
    "array_chato"
   ]
  },
  {
   "cell_type": "code",
   "execution_count": 35,
   "id": "7cd62109",
   "metadata": {},
   "outputs": [],
   "source": [
    "array_ravel = array_mod.ravel()"
   ]
  },
  {
   "cell_type": "code",
   "execution_count": 36,
   "id": "7fd2aa91",
   "metadata": {},
   "outputs": [
    {
     "data": {
      "text/plain": [
       "array([1, 2, 3, 4, 5, 6, 7, 8, 9])"
      ]
     },
     "execution_count": 36,
     "metadata": {},
     "output_type": "execute_result"
    }
   ],
   "source": [
    "array_ravel "
   ]
  },
  {
   "cell_type": "code",
   "execution_count": 2,
   "id": "10cd9b74",
   "metadata": {},
   "outputs": [],
   "source": [
    "import numpy as np\n",
    "#Array siempre del mismo tipo\n",
    "\n",
    "ruta = \"C:\\\\Users\\\\hherre13\\\\OneDrive - JNJ\\\\Documents\\\\Hector\\\\Python Total para data science\\\\Día 8\\\\Cuadernos para Prácticas\\\\medallas.csv\""
   ]
  },
  {
   "cell_type": "code",
   "execution_count": 3,
   "id": "927573dd",
   "metadata": {},
   "outputs": [
    {
     "ename": "ValueError",
     "evalue": "Some errors were detected !\n    Line #15 (got 2 columns instead of 1)\n    Line #17 (got 2 columns instead of 1)\n    Line #20 (got 2 columns instead of 1)\n    Line #22 (got 2 columns instead of 1)\n    Line #24 (got 2 columns instead of 1)\n    Line #27 (got 4 columns instead of 1)\n    Line #36 (got 2 columns instead of 1)\n    Line #39 (got 3 columns instead of 1)\n    Line #44 (got 4 columns instead of 1)\n    Line #63 (got 2 columns instead of 1)\n    Line #65 (got 2 columns instead of 1)\n    Line #70 (got 2 columns instead of 1)\n    Line #72 (got 3 columns instead of 1)\n    Line #73 (got 3 columns instead of 1)\n    Line #74 (got 4 columns instead of 1)\n    Line #77 (got 2 columns instead of 1)\n    Line #78 (got 2 columns instead of 1)\n    Line #82 (got 2 columns instead of 1)\n    Line #86 (got 3 columns instead of 1)",
     "output_type": "error",
     "traceback": [
      "\u001b[1;31m---------------------------------------------------------------------------\u001b[0m",
      "\u001b[1;31mValueError\u001b[0m                                Traceback (most recent call last)",
      "Cell \u001b[1;32mIn[3], line 1\u001b[0m\n\u001b[1;32m----> 1\u001b[0m array \u001b[38;5;241m=\u001b[39m \u001b[43mnp\u001b[49m\u001b[38;5;241;43m.\u001b[39;49m\u001b[43mgenfromtxt\u001b[49m\u001b[43m(\u001b[49m\u001b[43mruta\u001b[49m\u001b[43m)\u001b[49m\n",
      "File \u001b[1;32m~\\AppData\\Local\\anaconda3\\Lib\\site-packages\\numpy\\lib\\npyio.py:2309\u001b[0m, in \u001b[0;36mgenfromtxt\u001b[1;34m(fname, dtype, comments, delimiter, skip_header, skip_footer, converters, missing_values, filling_values, usecols, names, excludelist, deletechars, replace_space, autostrip, case_sensitive, defaultfmt, unpack, usemask, loose, invalid_raise, max_rows, encoding, ndmin, like)\u001b[0m\n\u001b[0;32m   2307\u001b[0m \u001b[38;5;66;03m# Raise an exception ?\u001b[39;00m\n\u001b[0;32m   2308\u001b[0m \u001b[38;5;28;01mif\u001b[39;00m invalid_raise:\n\u001b[1;32m-> 2309\u001b[0m     \u001b[38;5;28;01mraise\u001b[39;00m \u001b[38;5;167;01mValueError\u001b[39;00m(errmsg)\n\u001b[0;32m   2310\u001b[0m \u001b[38;5;66;03m# Issue a warning ?\u001b[39;00m\n\u001b[0;32m   2311\u001b[0m \u001b[38;5;28;01melse\u001b[39;00m:\n\u001b[0;32m   2312\u001b[0m     warnings\u001b[38;5;241m.\u001b[39mwarn(errmsg, ConversionWarning, stacklevel\u001b[38;5;241m=\u001b[39m\u001b[38;5;241m2\u001b[39m)\n",
      "\u001b[1;31mValueError\u001b[0m: Some errors were detected !\n    Line #15 (got 2 columns instead of 1)\n    Line #17 (got 2 columns instead of 1)\n    Line #20 (got 2 columns instead of 1)\n    Line #22 (got 2 columns instead of 1)\n    Line #24 (got 2 columns instead of 1)\n    Line #27 (got 4 columns instead of 1)\n    Line #36 (got 2 columns instead of 1)\n    Line #39 (got 3 columns instead of 1)\n    Line #44 (got 4 columns instead of 1)\n    Line #63 (got 2 columns instead of 1)\n    Line #65 (got 2 columns instead of 1)\n    Line #70 (got 2 columns instead of 1)\n    Line #72 (got 3 columns instead of 1)\n    Line #73 (got 3 columns instead of 1)\n    Line #74 (got 4 columns instead of 1)\n    Line #77 (got 2 columns instead of 1)\n    Line #78 (got 2 columns instead of 1)\n    Line #82 (got 2 columns instead of 1)\n    Line #86 (got 3 columns instead of 1)"
     ]
    }
   ],
   "source": [
    "array = np.genfromtxt(ruta)"
   ]
  },
  {
   "cell_type": "code",
   "execution_count": 6,
   "id": "0e0ea23d",
   "metadata": {},
   "outputs": [
    {
     "data": {
      "text/plain": [
       "array([[ nan,  nan,  nan,  nan,  nan],\n",
       "       [ nan,   1.,   2.,   3.,  nan],\n",
       "       [ nan,   2.,   2.,   4.,  nan],\n",
       "       [ 17.,   7.,  22.,  46.,  nan],\n",
       "       [  1.,   1.,   5.,   7.,  nan],\n",
       "       [ nan,   3.,   4.,   7.,  nan],\n",
       "       [  2.,  nan,  nan,   2.,  nan],\n",
       "       [ nan,   1.,  nan,   1.,  nan],\n",
       "       [  1.,   3.,   3.,   7.,  nan],\n",
       "       [  3.,   1.,   3.,   7.,  nan],\n",
       "       [  1.,  nan,  nan,   1.,  nan],\n",
       "       [ nan,  nan,   1.,   1.,  nan],\n",
       "       [  7.,   6.,   8.,  21.,  nan],\n",
       "       [  3.,   1.,   2.,   6.,  nan],\n",
       "       [ nan,  nan,   1.,   1.,  nan],\n",
       "       [  7.,   6.,  11.,  24.,  nan],\n",
       "       [  2.,   4.,   6.,  12.,  nan],\n",
       "       [ nan,   4.,   1.,   5.,  nan],\n",
       "       [  3.,   3.,   2.,   8.,  nan],\n",
       "       [ nan,  nan,   1.,   1.,  nan],\n",
       "       [  7.,   3.,   5.,  15.,  nan],\n",
       "       [  4.,   4.,   3.,  11.,  nan],\n",
       "       [  3.,   4.,   4.,  11.,  nan],\n",
       "       [ nan,   3.,   2.,   5.,  nan],\n",
       "       [  2.,   1.,  nan,   3.,  nan],\n",
       "       [  1.,   1.,   4.,   6.,  nan],\n",
       "       [ 39.,  41.,  33., 113.,  nan],\n",
       "       [  1.,  nan,   1.,   2.,  nan],\n",
       "       [  1.,   1.,   2.,   4.,  nan],\n",
       "       [  1.,  nan,   1.,   2.,  nan],\n",
       "       [ nan,  nan,   2.,   2.,  nan],\n",
       "       [  1.,  12.,  11.,  33.,  nan],\n",
       "       [  2.,   5.,   1.,   8.,  nan],\n",
       "       [  1.,  11.,  16.,  37.,  nan],\n",
       "       [ nan,  nan,   1.,   1.,  nan],\n",
       "       [ 22.,  21.,  22.,  65.,  nan],\n",
       "       [  2.,   1.,   1.,   4.,  nan],\n",
       "       [ nan,  nan,   1.,   1.,  nan],\n",
       "       [ nan,   2.,   3.,   6.,  nan],\n",
       "       [  6.,   7.,   7.,   2.,  nan],\n",
       "       [  1.,   2.,   4.,   7.,  nan],\n",
       "       [  1.,   1.,   3.,   5.,  nan],\n",
       "       [  2.,  nan,   2.,   4.,  nan],\n",
       "       [  3.,   2.,   2.,   7.,  nan],\n",
       "       [  2.,  nan,   2.,   4.,  nan],\n",
       "       [  1.,   1.,   2.,   4.,  nan],\n",
       "       [  4.,   1.,   4.,   9.,  nan],\n",
       "       [ 27.,  14.,  17.,  58.,  nan],\n",
       "       [ nan,   1.,   1.,   2.,  nan],\n",
       "       [ nan,  nan,   8.,   8.,  nan],\n",
       "       [  4.,   4.,   2.,   1.,  nan],\n",
       "       [  2.,  nan,  nan,   2.,  nan],\n",
       "       [ nan,  nan,   1.,   1.,  nan],\n",
       "       [ nan,   2.,   1.,   3.,  nan],\n",
       "       [  1.,  nan,   1.,   2.,  nan],\n",
       "       [ nan,   1.,  nan,   1.,  nan],\n",
       "       [ nan,   1.,   1.,   2.,  nan],\n",
       "       [ nan,  nan,   4.,   4.,  nan],\n",
       "       [ nan,   1.,   3.,   4.,  nan],\n",
       "       [  1.,  nan,  nan,   1.,  nan],\n",
       "       [ nan,   1.,  nan,   1.,  nan],\n",
       "       [  1.,  12.,  14.,  36.,  nan],\n",
       "       [  7.,   6.,   7.,   2.,  nan],\n",
       "       [ nan,   1.,   1.,   2.,  nan],\n",
       "       [ nan,   1.,  nan,   1.,  nan],\n",
       "       [  4.,   2.,   2.,   8.,  nan],\n",
       "       [  1.,   2.,   1.,   4.,  nan],\n",
       "       [  4.,   5.,   5.,  14.,  nan],\n",
       "       [  1.,   1.,   2.,   4.,  nan],\n",
       "       [  1.,  nan,  nan,   1.,  nan],\n",
       "       [  2.,  nan,   1.,   3.,  nan],\n",
       "       [  6.,   4.,   1.,   2.,  nan],\n",
       "       [ nan,  nan,   1.,   1.,  nan],\n",
       "       [ 38.,  32.,  18.,  88.,  nan],\n",
       "       [  2.,  28.,  23.,  71.,  nan],\n",
       "       [  1.,   3.,  nan,   4.,  nan],\n",
       "       [ nan,   1.,   2.,   3.,  nan],\n",
       "       [ nan,   1.,  nan,   1.,  nan],\n",
       "       [  3.,   1.,   5.,   9.,  nan],\n",
       "       [  1.,   2.,   1.,   4.,  nan],\n",
       "       [  3.,   1.,   1.,   5.,  nan],\n",
       "       [  1.,   2.,  nan,   3.,  nan],\n",
       "       [  3.,   8.,   6.,  17.,  nan],\n",
       "       [  3.,   6.,  nan,   9.,  nan],\n",
       "       [  3.,   4.,   6.,  13.,  nan],\n",
       "       [ nan,  nan,   1.,   1.,  nan],\n",
       "       [  1.,  nan,   1.,   2.,  nan],\n",
       "       [  1.,   1.,  nan,   2.,  nan],\n",
       "       [  2.,   2.,   9.,  13.,  nan],\n",
       "       [ nan,   1.,  nan,   1.,  nan],\n",
       "       [  2.,   1.,   1.,   4.,  nan],\n",
       "       [  1.,   6.,  12.,  19.,  nan],\n",
       "       [  3.,  nan,   2.,   5.,  nan],\n",
       "       [  1.,   3.,  nan,   4.,  nan]])"
      ]
     },
     "execution_count": 6,
     "metadata": {},
     "output_type": "execute_result"
    }
   ],
   "source": [
    "array = np.genfromtxt(ruta,delimiter=\",\")\n",
    "array"
   ]
  },
  {
   "cell_type": "code",
   "execution_count": 7,
   "id": "3bccd40b",
   "metadata": {},
   "outputs": [
    {
     "data": {
      "text/plain": [
       "array([[  0.,   0.,   0.,   0.,   0.],\n",
       "       [  0.,   1.,   2.,   3.,   0.],\n",
       "       [  0.,   2.,   2.,   4.,   0.],\n",
       "       [ 17.,   7.,  22.,  46.,   0.],\n",
       "       [  1.,   1.,   5.,   7.,   0.],\n",
       "       [  0.,   3.,   4.,   7.,   0.],\n",
       "       [  2.,   0.,   0.,   2.,   0.],\n",
       "       [  0.,   1.,   0.,   1.,   0.],\n",
       "       [  1.,   3.,   3.,   7.,   0.],\n",
       "       [  3.,   1.,   3.,   7.,   0.],\n",
       "       [  1.,   0.,   0.,   1.,   0.],\n",
       "       [  0.,   0.,   1.,   1.,   0.],\n",
       "       [  7.,   6.,   8.,  21.,   0.],\n",
       "       [  3.,   1.,   2.,   6.,   0.],\n",
       "       [  0.,   0.,   1.,   1.,   0.],\n",
       "       [  7.,   6.,  11.,  24.,   0.],\n",
       "       [  2.,   4.,   6.,  12.,   0.],\n",
       "       [  0.,   4.,   1.,   5.,   0.],\n",
       "       [  3.,   3.,   2.,   8.,   0.],\n",
       "       [  0.,   0.,   1.,   1.,   0.],\n",
       "       [  7.,   3.,   5.,  15.,   0.],\n",
       "       [  4.,   4.,   3.,  11.,   0.],\n",
       "       [  3.,   4.,   4.,  11.,   0.],\n",
       "       [  0.,   3.,   2.,   5.,   0.],\n",
       "       [  2.,   1.,   0.,   3.,   0.],\n",
       "       [  1.,   1.,   4.,   6.,   0.],\n",
       "       [ 39.,  41.,  33., 113.,   0.],\n",
       "       [  1.,   0.,   1.,   2.,   0.],\n",
       "       [  1.,   1.,   2.,   4.,   0.],\n",
       "       [  1.,   0.,   1.,   2.,   0.],\n",
       "       [  0.,   0.,   2.,   2.,   0.],\n",
       "       [  1.,  12.,  11.,  33.,   0.],\n",
       "       [  2.,   5.,   1.,   8.,   0.],\n",
       "       [  1.,  11.,  16.,  37.,   0.],\n",
       "       [  0.,   0.,   1.,   1.,   0.],\n",
       "       [ 22.,  21.,  22.,  65.,   0.],\n",
       "       [  2.,   1.,   1.,   4.,   0.],\n",
       "       [  0.,   0.,   1.,   1.,   0.],\n",
       "       [  0.,   2.,   3.,   6.,   0.],\n",
       "       [  6.,   7.,   7.,   2.,   0.],\n",
       "       [  1.,   2.,   4.,   7.,   0.],\n",
       "       [  1.,   1.,   3.,   5.,   0.],\n",
       "       [  2.,   0.,   2.,   4.,   0.],\n",
       "       [  3.,   2.,   2.,   7.,   0.],\n",
       "       [  2.,   0.,   2.,   4.,   0.],\n",
       "       [  1.,   1.,   2.,   4.,   0.],\n",
       "       [  4.,   1.,   4.,   9.,   0.],\n",
       "       [ 27.,  14.,  17.,  58.,   0.],\n",
       "       [  0.,   1.,   1.,   2.,   0.],\n",
       "       [  0.,   0.,   8.,   8.,   0.],\n",
       "       [  4.,   4.,   2.,   1.,   0.],\n",
       "       [  2.,   0.,   0.,   2.,   0.],\n",
       "       [  0.,   0.,   1.,   1.,   0.],\n",
       "       [  0.,   2.,   1.,   3.,   0.],\n",
       "       [  1.,   0.,   1.,   2.,   0.],\n",
       "       [  0.,   1.,   0.,   1.,   0.],\n",
       "       [  0.,   1.,   1.,   2.,   0.],\n",
       "       [  0.,   0.,   4.,   4.,   0.],\n",
       "       [  0.,   1.,   3.,   4.,   0.],\n",
       "       [  1.,   0.,   0.,   1.,   0.],\n",
       "       [  0.,   1.,   0.,   1.,   0.],\n",
       "       [  1.,  12.,  14.,  36.,   0.],\n",
       "       [  7.,   6.,   7.,   2.,   0.],\n",
       "       [  0.,   1.,   1.,   2.,   0.],\n",
       "       [  0.,   1.,   0.,   1.,   0.],\n",
       "       [  4.,   2.,   2.,   8.,   0.],\n",
       "       [  1.,   2.,   1.,   4.,   0.],\n",
       "       [  4.,   5.,   5.,  14.,   0.],\n",
       "       [  1.,   1.,   2.,   4.,   0.],\n",
       "       [  1.,   0.,   0.,   1.,   0.],\n",
       "       [  2.,   0.,   1.,   3.,   0.],\n",
       "       [  6.,   4.,   1.,   2.,   0.],\n",
       "       [  0.,   0.,   1.,   1.,   0.],\n",
       "       [ 38.,  32.,  18.,  88.,   0.],\n",
       "       [  2.,  28.,  23.,  71.,   0.],\n",
       "       [  1.,   3.,   0.,   4.,   0.],\n",
       "       [  0.,   1.,   2.,   3.,   0.],\n",
       "       [  0.,   1.,   0.,   1.,   0.],\n",
       "       [  3.,   1.,   5.,   9.,   0.],\n",
       "       [  1.,   2.,   1.,   4.,   0.],\n",
       "       [  3.,   1.,   1.,   5.,   0.],\n",
       "       [  1.,   2.,   0.,   3.,   0.],\n",
       "       [  3.,   8.,   6.,  17.,   0.],\n",
       "       [  3.,   6.,   0.,   9.,   0.],\n",
       "       [  3.,   4.,   6.,  13.,   0.],\n",
       "       [  0.,   0.,   1.,   1.,   0.],\n",
       "       [  1.,   0.,   1.,   2.,   0.],\n",
       "       [  1.,   1.,   0.,   2.,   0.],\n",
       "       [  2.,   2.,   9.,  13.,   0.],\n",
       "       [  0.,   1.,   0.,   1.,   0.],\n",
       "       [  2.,   1.,   1.,   4.,   0.],\n",
       "       [  1.,   6.,  12.,  19.,   0.],\n",
       "       [  3.,   0.,   2.,   5.,   0.],\n",
       "       [  1.,   3.,   0.,   4.,   0.]])"
      ]
     },
     "execution_count": 7,
     "metadata": {},
     "output_type": "execute_result"
    }
   ],
   "source": [
    "array = np.genfromtxt(ruta,delimiter=\",\", filling_values = 0)\n",
    "array"
   ]
  },
  {
   "cell_type": "code",
   "execution_count": 9,
   "id": "0401c1b4",
   "metadata": {},
   "outputs": [
    {
     "data": {
      "text/plain": [
       "array([[  0.,   1.,   2.,   3.,   0.],\n",
       "       [  0.,   2.,   2.,   4.,   0.],\n",
       "       [ 17.,   7.,  22.,  46.,   0.],\n",
       "       [  1.,   1.,   5.,   7.,   0.],\n",
       "       [  0.,   3.,   4.,   7.,   0.],\n",
       "       [  2.,   0.,   0.,   2.,   0.],\n",
       "       [  0.,   1.,   0.,   1.,   0.],\n",
       "       [  1.,   3.,   3.,   7.,   0.],\n",
       "       [  3.,   1.,   3.,   7.,   0.],\n",
       "       [  1.,   0.,   0.,   1.,   0.],\n",
       "       [  0.,   0.,   1.,   1.,   0.],\n",
       "       [  7.,   6.,   8.,  21.,   0.],\n",
       "       [  3.,   1.,   2.,   6.,   0.],\n",
       "       [  0.,   0.,   1.,   1.,   0.],\n",
       "       [  7.,   6.,  11.,  24.,   0.],\n",
       "       [  2.,   4.,   6.,  12.,   0.],\n",
       "       [  0.,   4.,   1.,   5.,   0.],\n",
       "       [  3.,   3.,   2.,   8.,   0.],\n",
       "       [  0.,   0.,   1.,   1.,   0.],\n",
       "       [  7.,   3.,   5.,  15.,   0.],\n",
       "       [  4.,   4.,   3.,  11.,   0.],\n",
       "       [  3.,   4.,   4.,  11.,   0.],\n",
       "       [  0.,   3.,   2.,   5.,   0.],\n",
       "       [  2.,   1.,   0.,   3.,   0.],\n",
       "       [  1.,   1.,   4.,   6.,   0.],\n",
       "       [ 39.,  41.,  33., 113.,   0.],\n",
       "       [  1.,   0.,   1.,   2.,   0.],\n",
       "       [  1.,   1.,   2.,   4.,   0.],\n",
       "       [  1.,   0.,   1.,   2.,   0.],\n",
       "       [  0.,   0.,   2.,   2.,   0.],\n",
       "       [  1.,  12.,  11.,  33.,   0.],\n",
       "       [  2.,   5.,   1.,   8.,   0.],\n",
       "       [  1.,  11.,  16.,  37.,   0.],\n",
       "       [  0.,   0.,   1.,   1.,   0.],\n",
       "       [ 22.,  21.,  22.,  65.,   0.],\n",
       "       [  2.,   1.,   1.,   4.,   0.],\n",
       "       [  0.,   0.,   1.,   1.,   0.],\n",
       "       [  0.,   2.,   3.,   6.,   0.],\n",
       "       [  6.,   7.,   7.,   2.,   0.],\n",
       "       [  1.,   2.,   4.,   7.,   0.],\n",
       "       [  1.,   1.,   3.,   5.,   0.],\n",
       "       [  2.,   0.,   2.,   4.,   0.],\n",
       "       [  3.,   2.,   2.,   7.,   0.],\n",
       "       [  2.,   0.,   2.,   4.,   0.],\n",
       "       [  1.,   1.,   2.,   4.,   0.],\n",
       "       [  4.,   1.,   4.,   9.,   0.],\n",
       "       [ 27.,  14.,  17.,  58.,   0.],\n",
       "       [  0.,   1.,   1.,   2.,   0.],\n",
       "       [  0.,   0.,   8.,   8.,   0.],\n",
       "       [  4.,   4.,   2.,   1.,   0.],\n",
       "       [  2.,   0.,   0.,   2.,   0.],\n",
       "       [  0.,   0.,   1.,   1.,   0.],\n",
       "       [  0.,   2.,   1.,   3.,   0.],\n",
       "       [  1.,   0.,   1.,   2.,   0.],\n",
       "       [  0.,   1.,   0.,   1.,   0.],\n",
       "       [  0.,   1.,   1.,   2.,   0.],\n",
       "       [  0.,   0.,   4.,   4.,   0.],\n",
       "       [  0.,   1.,   3.,   4.,   0.],\n",
       "       [  1.,   0.,   0.,   1.,   0.],\n",
       "       [  0.,   1.,   0.,   1.,   0.],\n",
       "       [  1.,  12.,  14.,  36.,   0.],\n",
       "       [  7.,   6.,   7.,   2.,   0.],\n",
       "       [  0.,   1.,   1.,   2.,   0.],\n",
       "       [  0.,   1.,   0.,   1.,   0.],\n",
       "       [  4.,   2.,   2.,   8.,   0.],\n",
       "       [  1.,   2.,   1.,   4.,   0.],\n",
       "       [  4.,   5.,   5.,  14.,   0.],\n",
       "       [  1.,   1.,   2.,   4.,   0.],\n",
       "       [  1.,   0.,   0.,   1.,   0.],\n",
       "       [  2.,   0.,   1.,   3.,   0.],\n",
       "       [  6.,   4.,   1.,   2.,   0.],\n",
       "       [  0.,   0.,   1.,   1.,   0.],\n",
       "       [ 38.,  32.,  18.,  88.,   0.],\n",
       "       [  2.,  28.,  23.,  71.,   0.],\n",
       "       [  1.,   3.,   0.,   4.,   0.],\n",
       "       [  0.,   1.,   2.,   3.,   0.],\n",
       "       [  0.,   1.,   0.,   1.,   0.],\n",
       "       [  3.,   1.,   5.,   9.,   0.],\n",
       "       [  1.,   2.,   1.,   4.,   0.],\n",
       "       [  3.,   1.,   1.,   5.,   0.],\n",
       "       [  1.,   2.,   0.,   3.,   0.],\n",
       "       [  3.,   8.,   6.,  17.,   0.],\n",
       "       [  3.,   6.,   0.,   9.,   0.],\n",
       "       [  3.,   4.,   6.,  13.,   0.],\n",
       "       [  0.,   0.,   1.,   1.,   0.],\n",
       "       [  1.,   0.,   1.,   2.,   0.],\n",
       "       [  1.,   1.,   0.,   2.,   0.],\n",
       "       [  2.,   2.,   9.,  13.,   0.],\n",
       "       [  0.,   1.,   0.,   1.,   0.],\n",
       "       [  2.,   1.,   1.,   4.,   0.],\n",
       "       [  1.,   6.,  12.,  19.,   0.],\n",
       "       [  3.,   0.,   2.,   5.,   0.],\n",
       "       [  1.,   3.,   0.,   4.,   0.]])"
      ]
     },
     "execution_count": 9,
     "metadata": {},
     "output_type": "execute_result"
    }
   ],
   "source": [
    "array = np.genfromtxt(ruta,delimiter=\",\", filling_values = 0, skip_header = 1)\n",
    "array"
   ]
  },
  {
   "cell_type": "code",
   "execution_count": 10,
   "id": "a42a4beb",
   "metadata": {},
   "outputs": [
    {
     "data": {
      "text/plain": [
       "array([[  0,   1,   2,   3,   0],\n",
       "       [  0,   2,   2,   4,   0],\n",
       "       [ 17,   7,  22,  46,   0],\n",
       "       [  1,   1,   5,   7,   0],\n",
       "       [  0,   3,   4,   7,   0],\n",
       "       [  2,   0,   0,   2,   0],\n",
       "       [  0,   1,   0,   1,   0],\n",
       "       [  1,   3,   3,   7,   0],\n",
       "       [  3,   1,   3,   7,   0],\n",
       "       [  1,   0,   0,   1,   0],\n",
       "       [  0,   0,   1,   1,   0],\n",
       "       [  7,   6,   8,  21,   0],\n",
       "       [  3,   1,   2,   6,   0],\n",
       "       [  0,   0,   1,   1,   0],\n",
       "       [  7,   6,  11,  24,   0],\n",
       "       [  2,   4,   6,  12,   0],\n",
       "       [  0,   4,   1,   5,   0],\n",
       "       [  3,   3,   2,   8,   0],\n",
       "       [  0,   0,   1,   1,   0],\n",
       "       [  7,   3,   5,  15,   0],\n",
       "       [  4,   4,   3,  11,   0],\n",
       "       [  3,   4,   4,  11,   0],\n",
       "       [  0,   3,   2,   5,   0],\n",
       "       [  2,   1,   0,   3,   0],\n",
       "       [  1,   1,   4,   6,   0],\n",
       "       [ 39,  41,  33, 113,   0],\n",
       "       [  1,   0,   1,   2,   0],\n",
       "       [  1,   1,   2,   4,   0],\n",
       "       [  1,   0,   1,   2,   0],\n",
       "       [  0,   0,   2,   2,   0],\n",
       "       [  1,  12,  11,  33,   0],\n",
       "       [  2,   5,   1,   8,   0],\n",
       "       [  1,  11,  16,  37,   0],\n",
       "       [  0,   0,   1,   1,   0],\n",
       "       [ 22,  21,  22,  65,   0],\n",
       "       [  2,   1,   1,   4,   0],\n",
       "       [  0,   0,   1,   1,   0],\n",
       "       [  0,   2,   3,   6,   0],\n",
       "       [  6,   7,   7,   2,   0],\n",
       "       [  1,   2,   4,   7,   0],\n",
       "       [  1,   1,   3,   5,   0],\n",
       "       [  2,   0,   2,   4,   0],\n",
       "       [  3,   2,   2,   7,   0],\n",
       "       [  2,   0,   2,   4,   0],\n",
       "       [  1,   1,   2,   4,   0],\n",
       "       [  4,   1,   4,   9,   0],\n",
       "       [ 27,  14,  17,  58,   0],\n",
       "       [  0,   1,   1,   2,   0],\n",
       "       [  0,   0,   8,   8,   0],\n",
       "       [  4,   4,   2,   1,   0],\n",
       "       [  2,   0,   0,   2,   0],\n",
       "       [  0,   0,   1,   1,   0],\n",
       "       [  0,   2,   1,   3,   0],\n",
       "       [  1,   0,   1,   2,   0],\n",
       "       [  0,   1,   0,   1,   0],\n",
       "       [  0,   1,   1,   2,   0],\n",
       "       [  0,   0,   4,   4,   0],\n",
       "       [  0,   1,   3,   4,   0],\n",
       "       [  1,   0,   0,   1,   0],\n",
       "       [  0,   1,   0,   1,   0],\n",
       "       [  1,  12,  14,  36,   0],\n",
       "       [  7,   6,   7,   2,   0],\n",
       "       [  0,   1,   1,   2,   0],\n",
       "       [  0,   1,   0,   1,   0],\n",
       "       [  4,   2,   2,   8,   0],\n",
       "       [  1,   2,   1,   4,   0],\n",
       "       [  4,   5,   5,  14,   0],\n",
       "       [  1,   1,   2,   4,   0],\n",
       "       [  1,   0,   0,   1,   0],\n",
       "       [  2,   0,   1,   3,   0],\n",
       "       [  6,   4,   1,   2,   0],\n",
       "       [  0,   0,   1,   1,   0],\n",
       "       [ 38,  32,  18,  88,   0],\n",
       "       [  2,  28,  23,  71,   0],\n",
       "       [  1,   3,   0,   4,   0],\n",
       "       [  0,   1,   2,   3,   0],\n",
       "       [  0,   1,   0,   1,   0],\n",
       "       [  3,   1,   5,   9,   0],\n",
       "       [  1,   2,   1,   4,   0],\n",
       "       [  3,   1,   1,   5,   0],\n",
       "       [  1,   2,   0,   3,   0],\n",
       "       [  3,   8,   6,  17,   0],\n",
       "       [  3,   6,   0,   9,   0],\n",
       "       [  3,   4,   6,  13,   0],\n",
       "       [  0,   0,   1,   1,   0],\n",
       "       [  1,   0,   1,   2,   0],\n",
       "       [  1,   1,   0,   2,   0],\n",
       "       [  2,   2,   9,  13,   0],\n",
       "       [  0,   1,   0,   1,   0],\n",
       "       [  2,   1,   1,   4,   0],\n",
       "       [  1,   6,  12,  19,   0],\n",
       "       [  3,   0,   2,   5,   0],\n",
       "       [  1,   3,   0,   4,   0]])"
      ]
     },
     "execution_count": 10,
     "metadata": {},
     "output_type": "execute_result"
    }
   ],
   "source": [
    "array = np.genfromtxt(ruta,delimiter=\",\", filling_values = 0, skip_header = 1,dtype = int)\n",
    "array"
   ]
  },
  {
   "cell_type": "code",
   "execution_count": 11,
   "id": "7ec06bba",
   "metadata": {},
   "outputs": [],
   "source": [
    "array_ejmplo = np.array([[1,2,4],\n",
    "                        [4,5,6]])"
   ]
  },
  {
   "cell_type": "code",
   "execution_count": 12,
   "id": "d9fc72f4",
   "metadata": {},
   "outputs": [],
   "source": [
    "#Saving\n",
    "\n",
    "ruta = \"C:\\\\Users\\\\hherre13\\\\OneDrive - JNJ\\\\Documents\\\\Hector\\\\Python Total para data science\\\\Día 8\\\\Cuadernos para Prácticas\\\\myarray.csv\""
   ]
  },
  {
   "cell_type": "code",
   "execution_count": 14,
   "id": "882d300f",
   "metadata": {},
   "outputs": [],
   "source": [
    "np.savetxt(ruta, array_ejmplo, delimiter = \",\",fmt = \"%d\")"
   ]
  },
  {
   "cell_type": "markdown",
   "id": "4af36532",
   "metadata": {},
   "source": [
    "Integracion pandas y Numpy"
   ]
  },
  {
   "cell_type": "code",
   "execution_count": 15,
   "id": "ef369efc",
   "metadata": {},
   "outputs": [
    {
     "data": {
      "text/html": [
       "<div>\n",
       "<style scoped>\n",
       "    .dataframe tbody tr th:only-of-type {\n",
       "        vertical-align: middle;\n",
       "    }\n",
       "\n",
       "    .dataframe tbody tr th {\n",
       "        vertical-align: top;\n",
       "    }\n",
       "\n",
       "    .dataframe thead th {\n",
       "        text-align: right;\n",
       "    }\n",
       "</style>\n",
       "<table border=\"1\" class=\"dataframe\">\n",
       "  <thead>\n",
       "    <tr style=\"text-align: right;\">\n",
       "      <th></th>\n",
       "      <th>Impares</th>\n",
       "      <th>Pares</th>\n",
       "    </tr>\n",
       "  </thead>\n",
       "  <tbody>\n",
       "    <tr>\n",
       "      <th>0</th>\n",
       "      <td>1</td>\n",
       "      <td>2</td>\n",
       "    </tr>\n",
       "    <tr>\n",
       "      <th>1</th>\n",
       "      <td>3</td>\n",
       "      <td>4</td>\n",
       "    </tr>\n",
       "    <tr>\n",
       "      <th>2</th>\n",
       "      <td>5</td>\n",
       "      <td>6</td>\n",
       "    </tr>\n",
       "  </tbody>\n",
       "</table>\n",
       "</div>"
      ],
      "text/plain": [
       "   Impares  Pares\n",
       "0        1      2\n",
       "1        3      4\n",
       "2        5      6"
      ]
     },
     "execution_count": 15,
     "metadata": {},
     "output_type": "execute_result"
    }
   ],
   "source": [
    "import numpy as np\n",
    "import pandas as pd\n",
    "\n",
    "df = pd.DataFrame({\n",
    "    \"Impares\":[1,3,5],\n",
    "    \"Pares\": [2,4,6]\n",
    "})\n",
    "\n",
    "df"
   ]
  },
  {
   "cell_type": "code",
   "execution_count": 17,
   "id": "0a5aae9b",
   "metadata": {},
   "outputs": [
    {
     "data": {
      "text/plain": [
       "array([[1, 2],\n",
       "       [3, 4],\n",
       "       [5, 6]], dtype=int64)"
      ]
     },
     "execution_count": 17,
     "metadata": {},
     "output_type": "execute_result"
    }
   ],
   "source": [
    "array_n1 =df.values\n",
    "array_n1"
   ]
  },
  {
   "cell_type": "code",
   "execution_count": 19,
   "id": "ae80aa73",
   "metadata": {},
   "outputs": [
    {
     "data": {
      "text/plain": [
       "array([[1, 2],\n",
       "       [3, 4],\n",
       "       [5, 6]], dtype=int64)"
      ]
     },
     "execution_count": 19,
     "metadata": {},
     "output_type": "execute_result"
    }
   ],
   "source": [
    "array_n2 = df.to_numpy()\n",
    "array_n2"
   ]
  },
  {
   "cell_type": "code",
   "execution_count": 20,
   "id": "1a63defb",
   "metadata": {},
   "outputs": [
    {
     "data": {
      "text/html": [
       "<div>\n",
       "<style scoped>\n",
       "    .dataframe tbody tr th:only-of-type {\n",
       "        vertical-align: middle;\n",
       "    }\n",
       "\n",
       "    .dataframe tbody tr th {\n",
       "        vertical-align: top;\n",
       "    }\n",
       "\n",
       "    .dataframe thead th {\n",
       "        text-align: right;\n",
       "    }\n",
       "</style>\n",
       "<table border=\"1\" class=\"dataframe\">\n",
       "  <thead>\n",
       "    <tr style=\"text-align: right;\">\n",
       "      <th></th>\n",
       "      <th>Impares</th>\n",
       "      <th>Pares</th>\n",
       "    </tr>\n",
       "  </thead>\n",
       "  <tbody>\n",
       "    <tr>\n",
       "      <th>0</th>\n",
       "      <td>1.000000</td>\n",
       "      <td>1.414214</td>\n",
       "    </tr>\n",
       "    <tr>\n",
       "      <th>1</th>\n",
       "      <td>1.732051</td>\n",
       "      <td>2.000000</td>\n",
       "    </tr>\n",
       "    <tr>\n",
       "      <th>2</th>\n",
       "      <td>2.236068</td>\n",
       "      <td>2.449490</td>\n",
       "    </tr>\n",
       "  </tbody>\n",
       "</table>\n",
       "</div>"
      ],
      "text/plain": [
       "    Impares     Pares\n",
       "0  1.000000  1.414214\n",
       "1  1.732051  2.000000\n",
       "2  2.236068  2.449490"
      ]
     },
     "execution_count": 20,
     "metadata": {},
     "output_type": "execute_result"
    }
   ],
   "source": [
    "np.sqrt(df)"
   ]
  },
  {
   "cell_type": "code",
   "execution_count": 24,
   "id": "af8ef626",
   "metadata": {},
   "outputs": [
    {
     "data": {
      "text/html": [
       "<div>\n",
       "<style scoped>\n",
       "    .dataframe tbody tr th:only-of-type {\n",
       "        vertical-align: middle;\n",
       "    }\n",
       "\n",
       "    .dataframe tbody tr th {\n",
       "        vertical-align: top;\n",
       "    }\n",
       "\n",
       "    .dataframe thead th {\n",
       "        text-align: right;\n",
       "    }\n",
       "</style>\n",
       "<table border=\"1\" class=\"dataframe\">\n",
       "  <thead>\n",
       "    <tr style=\"text-align: right;\">\n",
       "      <th></th>\n",
       "      <th>Col1</th>\n",
       "      <th>Col2</th>\n",
       "    </tr>\n",
       "  </thead>\n",
       "  <tbody>\n",
       "    <tr>\n",
       "      <th>0</th>\n",
       "      <td>1</td>\n",
       "      <td>2</td>\n",
       "    </tr>\n",
       "    <tr>\n",
       "      <th>1</th>\n",
       "      <td>3</td>\n",
       "      <td>4</td>\n",
       "    </tr>\n",
       "    <tr>\n",
       "      <th>2</th>\n",
       "      <td>5</td>\n",
       "      <td>6</td>\n",
       "    </tr>\n",
       "  </tbody>\n",
       "</table>\n",
       "</div>"
      ],
      "text/plain": [
       "   Col1  Col2\n",
       "0     1     2\n",
       "1     3     4\n",
       "2     5     6"
      ]
     },
     "execution_count": 24,
     "metadata": {},
     "output_type": "execute_result"
    }
   ],
   "source": [
    "df_desde_np = pd.DataFrame(array_n1,columns=[\"Col1\",\"Col2\"])\n",
    "df_desde_np"
   ]
  },
  {
   "cell_type": "code",
   "execution_count": 39,
   "id": "0000d200",
   "metadata": {},
   "outputs": [
    {
     "data": {
      "text/plain": [
       "array([['Manzana', 5],\n",
       "       ['Banana', 8],\n",
       "       ['Cereza', 3]], dtype=object)"
      ]
     },
     "execution_count": 39,
     "metadata": {},
     "output_type": "execute_result"
    }
   ],
   "source": [
    "#Ejercicio 1\n",
    "\n",
    "import numpy as np \n",
    "import pandas as pd \n",
    "\n",
    "mi_dataframe = pd.DataFrame({\"Frutas\":[\"Manzana\",\"Banana\",\"Cereza\"],\n",
    "                            \"Cantidad\":[5,8,3]})\n",
    "\n",
    "\n",
    "array_frutas = mi_dataframe.values\n",
    "array_frutas"
   ]
  },
  {
   "cell_type": "code",
   "execution_count": 42,
   "id": "71b55098",
   "metadata": {},
   "outputs": [
    {
     "data": {
      "text/plain": [
       "array([['Manzana', 5],\n",
       "       ['Banana', 8]], dtype=object)"
      ]
     },
     "execution_count": 42,
     "metadata": {},
     "output_type": "execute_result"
    }
   ],
   "source": [
    "#Ejercicio 2 \n",
    "import pandas as pd \n",
    "import numpy as np \n",
    "\n",
    "mi_dataframe = pd.DataFrame({\"Frutas\":[\"Manzana\",\"Banana\",\"Cereza\"],\n",
    "                            \"Cantidad\":[5,8,3]})\n",
    "\n",
    "mi_dataframe_filtrado = mi_dataframe[mi_dataframe[\"Cantidad\"] > 4]\n",
    "\n",
    "array_filtrado = mi_dataframe_filtrado.values\n",
    "array_filtrado"
   ]
  },
  {
   "cell_type": "code",
   "execution_count": null,
   "id": "48dfaa11",
   "metadata": {},
   "outputs": [],
   "source": [
    "#Ejercicio 3\n",
    "\n",
    "import numpy as np\n",
    "import pandas as pd\n",
    "\n",
    "# Crear el array de NumPy\n",
    "mi_array = np.array([[10, 40], [20, 50], [30, 60]])\n",
    "\n",
    "# Convertir el array en un DataFrame de Pandas\n",
    "df_numeros = pd.DataFrame(mi_array, columns=['Decenas', 'Centenas'])\n",
    "\n",
    "# Mostrar el DataFrame\n",
    "print(df_numeros)\n"
   ]
  },
  {
   "cell_type": "markdown",
   "id": "5538f983",
   "metadata": {},
   "source": []
  }
 ],
 "metadata": {
  "kernelspec": {
   "display_name": "Python 3 (ipykernel)",
   "language": "python",
   "name": "python3"
  },
  "language_info": {
   "codemirror_mode": {
    "name": "ipython",
    "version": 3
   },
   "file_extension": ".py",
   "mimetype": "text/x-python",
   "name": "python",
   "nbconvert_exporter": "python",
   "pygments_lexer": "ipython3",
   "version": "3.11.5"
  }
 },
 "nbformat": 4,
 "nbformat_minor": 5
}
