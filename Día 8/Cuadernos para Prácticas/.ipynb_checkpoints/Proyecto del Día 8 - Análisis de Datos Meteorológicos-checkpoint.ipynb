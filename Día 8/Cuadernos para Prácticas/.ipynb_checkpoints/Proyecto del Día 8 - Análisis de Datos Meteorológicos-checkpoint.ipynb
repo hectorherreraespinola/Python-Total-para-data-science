{
 "cells": [
  {
   "cell_type": "markdown",
   "id": "1ff9b7b5",
   "metadata": {},
   "source": [
    "# Proyecto del Día 8 - Análisis de Datos Meteorológicos\n",
    "\n",
    "Este proyecto consiste en analizar un conjunto de datos meteorológicos utilizando Python y NumPy. \n",
    "El objetivo es aplicar las técnicas de manipulación de arrays, tratamiento de datos faltantes, \n",
    "y análisis estadístico básico en un conjunto de datos del mundo real.\n",
    "\n",
    "## Tareas a Realizar:\n",
    "1. Crear un DataFrame a partir de los datos del archivo **datos_meteorologicos.csv** provisto en esta lección.\n",
    "2. Realizar observaciones iniciales de los datos con Pandas.\n",
    "3. Convertir las columnas del DataFrame en arrays de NumPy.\n",
    "4. Identificar los datos faltantes en los arrays, y reemplazarlos por el promedio de los valores del respectivo array.\n",
    "5. Realizar análisis estadísticos básicos. Mínimamente se espera que puedas extraer la siguiente información de tus arrays:\n",
    "    * La temperatura promedio\n",
    "    * El total de precipitaciones\n",
    "    * La máxima humedad registrada\n",
    "    * La fecha más calurosa\n",
    "    * La fehca más fría\n",
    "6. Exportar los resultados a un nuevo archivo CSV.\n",
    "\n",
    "¡Mucha suerte con tu proyecto!\n"
   ]
  },
  {
   "cell_type": "code",
   "execution_count": 1,
   "id": "37b498d9",
   "metadata": {},
   "outputs": [],
   "source": [
    "import pandas as pd\n",
    "import numpy as np"
   ]
  },
  {
   "cell_type": "markdown",
   "id": "6b416605",
   "metadata": {},
   "source": [
    "### 1. Crear un DataFrame a partir de los datos del archivo datos_meteorologicos.csv provisto en esta lección."
   ]
  },
  {
   "cell_type": "code",
   "execution_count": 2,
   "id": "4dabf813",
   "metadata": {},
   "outputs": [
    {
     "data": {
      "text/html": [
       "<div>\n",
       "<style scoped>\n",
       "    .dataframe tbody tr th:only-of-type {\n",
       "        vertical-align: middle;\n",
       "    }\n",
       "\n",
       "    .dataframe tbody tr th {\n",
       "        vertical-align: top;\n",
       "    }\n",
       "\n",
       "    .dataframe thead th {\n",
       "        text-align: right;\n",
       "    }\n",
       "</style>\n",
       "<table border=\"1\" class=\"dataframe\">\n",
       "  <thead>\n",
       "    <tr style=\"text-align: right;\">\n",
       "      <th></th>\n",
       "      <th>Metrica</th>\n",
       "      <th>Valor</th>\n",
       "    </tr>\n",
       "  </thead>\n",
       "  <tbody>\n",
       "    <tr>\n",
       "      <th>0</th>\n",
       "      <td>Temperatura Promedio</td>\n",
       "      <td>14.889295723531713</td>\n",
       "    </tr>\n",
       "    <tr>\n",
       "      <th>1</th>\n",
       "      <td>Precipitación Total</td>\n",
       "      <td>50597.19438939993</td>\n",
       "    </tr>\n",
       "    <tr>\n",
       "      <th>2</th>\n",
       "      <td>Humedad Máxima</td>\n",
       "      <td>99.99658156071747</td>\n",
       "    </tr>\n",
       "    <tr>\n",
       "      <th>3</th>\n",
       "      <td>Día Más Caluroso</td>\n",
       "      <td>12/07/2017</td>\n",
       "    </tr>\n",
       "    <tr>\n",
       "      <th>4</th>\n",
       "      <td>Día Más Frío</td>\n",
       "      <td>23/07/2020</td>\n",
       "    </tr>\n",
       "  </tbody>\n",
       "</table>\n",
       "</div>"
      ],
      "text/plain": [
       "                Metrica               Valor\n",
       "0  Temperatura Promedio  14.889295723531713\n",
       "1   Precipitación Total   50597.19438939993\n",
       "2        Humedad Máxima   99.99658156071747\n",
       "3      Día Más Caluroso          12/07/2017\n",
       "4          Día Más Frío          23/07/2020"
      ]
     },
     "execution_count": 2,
     "metadata": {},
     "output_type": "execute_result"
    }
   ],
   "source": [
    "ruta = \"C:\\\\Users\\\\hherre13\\\\OneDrive - JNJ\\\\Documents\\\\Hector\\\\Python Total para data science\\\\Día 8\\\\Cuadernos para Prácticas\\\\Resultados análisis meteorológico.csv\"\n",
    "\n",
    "df = pd.read_csv(ruta)\n",
    "df"
   ]
  },
  {
   "cell_type": "markdown",
   "id": "bd5ba486",
   "metadata": {},
   "source": [
    "### 2. Realizar observaciones iniciales de los datos con Pandas."
   ]
  },
  {
   "cell_type": "code",
   "execution_count": 3,
   "id": "f6fb247d",
   "metadata": {
    "scrolled": true
   },
   "outputs": [
    {
     "name": "stdout",
     "output_type": "stream",
     "text": [
      "<class 'pandas.core.frame.DataFrame'>\n",
      "RangeIndex: 5 entries, 0 to 4\n",
      "Data columns (total 2 columns):\n",
      " #   Column   Non-Null Count  Dtype \n",
      "---  ------   --------------  ----- \n",
      " 0   Metrica  5 non-null      object\n",
      " 1   Valor    5 non-null      object\n",
      "dtypes: object(2)\n",
      "memory usage: 212.0+ bytes\n"
     ]
    }
   ],
   "source": [
    "df.info()"
   ]
  },
  {
   "cell_type": "code",
   "execution_count": 4,
   "id": "9f1a6a6e",
   "metadata": {},
   "outputs": [
    {
     "data": {
      "text/html": [
       "<div>\n",
       "<style scoped>\n",
       "    .dataframe tbody tr th:only-of-type {\n",
       "        vertical-align: middle;\n",
       "    }\n",
       "\n",
       "    .dataframe tbody tr th {\n",
       "        vertical-align: top;\n",
       "    }\n",
       "\n",
       "    .dataframe thead th {\n",
       "        text-align: right;\n",
       "    }\n",
       "</style>\n",
       "<table border=\"1\" class=\"dataframe\">\n",
       "  <thead>\n",
       "    <tr style=\"text-align: right;\">\n",
       "      <th></th>\n",
       "      <th>Metrica</th>\n",
       "      <th>Valor</th>\n",
       "    </tr>\n",
       "  </thead>\n",
       "  <tbody>\n",
       "    <tr>\n",
       "      <th>count</th>\n",
       "      <td>5</td>\n",
       "      <td>5</td>\n",
       "    </tr>\n",
       "    <tr>\n",
       "      <th>unique</th>\n",
       "      <td>5</td>\n",
       "      <td>5</td>\n",
       "    </tr>\n",
       "    <tr>\n",
       "      <th>top</th>\n",
       "      <td>Temperatura Promedio</td>\n",
       "      <td>14.889295723531713</td>\n",
       "    </tr>\n",
       "    <tr>\n",
       "      <th>freq</th>\n",
       "      <td>1</td>\n",
       "      <td>1</td>\n",
       "    </tr>\n",
       "  </tbody>\n",
       "</table>\n",
       "</div>"
      ],
      "text/plain": [
       "                     Metrica               Valor\n",
       "count                      5                   5\n",
       "unique                     5                   5\n",
       "top     Temperatura Promedio  14.889295723531713\n",
       "freq                       1                   1"
      ]
     },
     "execution_count": 4,
     "metadata": {},
     "output_type": "execute_result"
    }
   ],
   "source": [
    "df.describe()"
   ]
  },
  {
   "cell_type": "code",
   "execution_count": null,
   "id": "60d99606",
   "metadata": {},
   "outputs": [],
   "source": [
    "df.isnull()."
   ]
  },
  {
   "cell_type": "markdown",
   "id": "9a6f36ea",
   "metadata": {},
   "source": [
    "### 3. Convertir las columnas del DataFrame en arrays de NumPy."
   ]
  },
  {
   "cell_type": "code",
   "execution_count": null,
   "id": "9dc26554",
   "metadata": {},
   "outputs": [],
   "source": []
  },
  {
   "cell_type": "code",
   "execution_count": null,
   "id": "04ee9183",
   "metadata": {},
   "outputs": [],
   "source": []
  },
  {
   "cell_type": "markdown",
   "id": "ea34bb17",
   "metadata": {},
   "source": [
    "### 4. Identificar los datos faltantes en los arrays, y reemplazarlos por el promedio de los valores del respectivo array."
   ]
  },
  {
   "cell_type": "code",
   "execution_count": null,
   "id": "65f3ba49",
   "metadata": {},
   "outputs": [],
   "source": []
  },
  {
   "cell_type": "markdown",
   "id": "e9cc83f2",
   "metadata": {},
   "source": [
    "### 5. Realizar análisis estadísticos básicos.\n",
    "\n",
    "##### Temperatura promedio"
   ]
  },
  {
   "cell_type": "code",
   "execution_count": null,
   "id": "35631de2",
   "metadata": {},
   "outputs": [],
   "source": []
  },
  {
   "cell_type": "markdown",
   "id": "3d5b50ca",
   "metadata": {},
   "source": [
    "##### Total de precipitaciones"
   ]
  },
  {
   "cell_type": "code",
   "execution_count": null,
   "id": "55ea942d",
   "metadata": {},
   "outputs": [],
   "source": []
  },
  {
   "cell_type": "markdown",
   "id": "37408d44",
   "metadata": {},
   "source": [
    "##### Máxima humedad registrada"
   ]
  },
  {
   "cell_type": "code",
   "execution_count": null,
   "id": "915e24c5",
   "metadata": {},
   "outputs": [],
   "source": []
  },
  {
   "cell_type": "markdown",
   "id": "feabf8f5",
   "metadata": {},
   "source": [
    "##### Fecha más calurosa"
   ]
  },
  {
   "cell_type": "code",
   "execution_count": null,
   "id": "bedde039",
   "metadata": {},
   "outputs": [],
   "source": []
  },
  {
   "cell_type": "markdown",
   "id": "f30a99e0",
   "metadata": {},
   "source": [
    "##### Fehca más fría"
   ]
  },
  {
   "cell_type": "code",
   "execution_count": null,
   "id": "68f820f0",
   "metadata": {},
   "outputs": [],
   "source": []
  },
  {
   "cell_type": "markdown",
   "id": "ff7d173c",
   "metadata": {},
   "source": [
    "### 6. Exportar los resultados a un nuevo archivo CSV."
   ]
  },
  {
   "cell_type": "code",
   "execution_count": null,
   "id": "e0cdfaee",
   "metadata": {},
   "outputs": [],
   "source": []
  }
 ],
 "metadata": {
  "kernelspec": {
   "display_name": "Python 3 (ipykernel)",
   "language": "python",
   "name": "python3"
  },
  "language_info": {
   "codemirror_mode": {
    "name": "ipython",
    "version": 3
   },
   "file_extension": ".py",
   "mimetype": "text/x-python",
   "name": "python",
   "nbconvert_exporter": "python",
   "pygments_lexer": "ipython3",
   "version": "3.11.5"
  }
 },
 "nbformat": 4,
 "nbformat_minor": 5
}
