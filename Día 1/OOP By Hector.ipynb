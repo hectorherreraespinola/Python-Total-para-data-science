{
 "cells": [
  {
   "cell_type": "markdown",
   "id": "3bb28357",
   "metadata": {},
   "source": [
    "Programacion Orientada a Objectos\n",
    "\n",
    "En python, todo es un objecto."
   ]
  },
  {
   "cell_type": "code",
   "execution_count": 1,
   "id": "e8aac490",
   "metadata": {},
   "outputs": [
    {
     "data": {
      "text/plain": [
       "2"
      ]
     },
     "execution_count": 1,
     "metadata": {},
     "output_type": "execute_result"
    }
   ],
   "source": [
    "1+1 #Ambos son objectos"
   ]
  },
  {
   "cell_type": "code",
   "execution_count": null,
   "id": "1e18ecc6",
   "metadata": {},
   "outputs": [],
   "source": []
  }
 ],
 "metadata": {
  "kernelspec": {
   "display_name": "Python 3 (ipykernel)",
   "language": "python",
   "name": "python3"
  },
  "language_info": {
   "codemirror_mode": {
    "name": "ipython",
    "version": 3
   },
   "file_extension": ".py",
   "mimetype": "text/x-python",
   "name": "python",
   "nbconvert_exporter": "python",
   "pygments_lexer": "ipython3",
   "version": "3.11.5"
  }
 },
 "nbformat": 4,
 "nbformat_minor": 5
}
